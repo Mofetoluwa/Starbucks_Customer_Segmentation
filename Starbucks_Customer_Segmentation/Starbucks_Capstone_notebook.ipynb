{
 "cells": [
  {
   "cell_type": "markdown",
   "metadata": {},
   "source": [
    "# Customer Segmentation Problem\n",
    "The Starbucks Capstone Project focuses on the Business Analytics domain of the American\n",
    "coffee company and fast-food chain, Starbucks . It involves analysing how promotional offers\n",
    "affect purchasing decisions, taking into consideration certain traits of the buyers such as age,\n",
    "gender, income and even whether the buyer likes to receive offers.\n",
    "\n",
    "Analysis is be done using customer segmentation. This is therefore a classification problem\n",
    "where given the input data containing demographic, transactional and offer information of\n",
    "various customers, subgroups containing very similar data points are created and examined to\n",
    "deduce how demographic attributes relate to offer types and behaviour towards offers."
   ]
  },
  {
   "cell_type": "markdown",
   "metadata": {},
   "source": [
    "# Data Sets\n",
    "\n",
    "The data is contained in three files:\n",
    "\n",
    "* portfolio.json - containing offer ids and meta data about each offer (duration, type, etc.)\n",
    "* profile.json - demographic data for each customer\n",
    "* transcript.json - records for transactions, offers received, offers viewed, and offers completed\n",
    "\n",
    "Here is the schema and explanation of each variable in the files:\n",
    "\n",
    "**portfolio.json**\n",
    "* id (string) - offer id\n",
    "* offer_type (string) - type of offer ie BOGO, discount, informational\n",
    "* difficulty (int) - minimum required spend to complete an offer\n",
    "* reward (int) - reward given for completing an offer\n",
    "* duration (int) - time for offer to be open, in days\n",
    "* channels (list of strings)\n",
    "\n",
    "**profile.json**\n",
    "* age (int) - age of the customer \n",
    "* became_member_on (int) - date when customer created an app account\n",
    "* gender (str) - gender of the customer (note some entries contain 'O' for other rather than M or F)\n",
    "* id (str) - customer id\n",
    "* income (float) - customer's income\n",
    "\n",
    "**transcript.json**\n",
    "* event (str) - record description (ie transaction, offer received, offer viewed, etc.)\n",
    "* person (str) - customer id\n",
    "* time (int) - time in hours since start of test. The data begins at time t=0\n",
    "* value - (dict of strings) - either an offer id or transaction amount depending on the record\n"
   ]
  },
  {
   "cell_type": "markdown",
   "metadata": {},
   "source": [
    "# Machine Learning Workflow\n",
    "To implement customer segmentation in this project, we would go through a number of steps.\n",
    "\n",
    "1. Data Loading and Exploration\n",
    "2. Data Cleaning and Preprocessing\n",
    "3. Dimensionality Reduction using Principal Components Analysis\n",
    "4. Feature Engineering and Data Transformation\n",
    "5. Clustering Transformed Data with GMM\n",
    "6. Extracting trained model attributes and visualizing clusters\n"
   ]
  },
  {
   "cell_type": "markdown",
   "metadata": {},
   "source": [
    "## Loading the Datasets\n",
    "First, the relevant libraries are imported. Then the json files containing the datasets are loaded. "
   ]
  },
  {
   "cell_type": "code",
   "execution_count": 1,
   "metadata": {},
   "outputs": [],
   "source": [
    "import pandas as pd\n",
    "import numpy as np\n",
    "import math\n",
    "import json\n",
    "from data_preprocessing import merge_datasets, create_new_features, group_by_customers\n",
    "from clean_data import missing_val_check, impute_missing_vals\n",
    "%matplotlib inline\n",
    "\n",
    "# read in the json files\n",
    "portfolio = pd.read_json('data/portfolio.json', orient='records', lines=True)\n",
    "profile = pd.read_json('data/profile.json', orient='records', lines=True)\n",
    "transcript = pd.read_json('data/transcript.json', orient='records', lines=True)"
   ]
  },
  {
   "cell_type": "markdown",
   "metadata": {},
   "source": [
    "The datsets are examined to find out the columns, number of instances and features"
   ]
  },
  {
   "cell_type": "code",
   "execution_count": 2,
   "metadata": {},
   "outputs": [
    {
     "name": "stdout",
     "output_type": "stream",
     "text": [
      "portfolio:\n",
      "Number of rows:10, Number of columns:6\n"
     ]
    },
    {
     "data": {
      "text/html": [
       "<div>\n",
       "<style scoped>\n",
       "    .dataframe tbody tr th:only-of-type {\n",
       "        vertical-align: middle;\n",
       "    }\n",
       "\n",
       "    .dataframe tbody tr th {\n",
       "        vertical-align: top;\n",
       "    }\n",
       "\n",
       "    .dataframe thead th {\n",
       "        text-align: right;\n",
       "    }\n",
       "</style>\n",
       "<table border=\"1\" class=\"dataframe\">\n",
       "  <thead>\n",
       "    <tr style=\"text-align: right;\">\n",
       "      <th></th>\n",
       "      <th>channels</th>\n",
       "      <th>difficulty</th>\n",
       "      <th>duration</th>\n",
       "      <th>id</th>\n",
       "      <th>offer_type</th>\n",
       "      <th>reward</th>\n",
       "    </tr>\n",
       "  </thead>\n",
       "  <tbody>\n",
       "    <tr>\n",
       "      <th>0</th>\n",
       "      <td>[email, mobile, social]</td>\n",
       "      <td>10</td>\n",
       "      <td>7</td>\n",
       "      <td>ae264e3637204a6fb9bb56bc8210ddfd</td>\n",
       "      <td>bogo</td>\n",
       "      <td>10</td>\n",
       "    </tr>\n",
       "    <tr>\n",
       "      <th>1</th>\n",
       "      <td>[web, email, mobile, social]</td>\n",
       "      <td>10</td>\n",
       "      <td>5</td>\n",
       "      <td>4d5c57ea9a6940dd891ad53e9dbe8da0</td>\n",
       "      <td>bogo</td>\n",
       "      <td>10</td>\n",
       "    </tr>\n",
       "    <tr>\n",
       "      <th>2</th>\n",
       "      <td>[web, email, mobile]</td>\n",
       "      <td>0</td>\n",
       "      <td>4</td>\n",
       "      <td>3f207df678b143eea3cee63160fa8bed</td>\n",
       "      <td>informational</td>\n",
       "      <td>0</td>\n",
       "    </tr>\n",
       "    <tr>\n",
       "      <th>3</th>\n",
       "      <td>[web, email, mobile]</td>\n",
       "      <td>5</td>\n",
       "      <td>7</td>\n",
       "      <td>9b98b8c7a33c4b65b9aebfe6a799e6d9</td>\n",
       "      <td>bogo</td>\n",
       "      <td>5</td>\n",
       "    </tr>\n",
       "    <tr>\n",
       "      <th>4</th>\n",
       "      <td>[web, email]</td>\n",
       "      <td>20</td>\n",
       "      <td>10</td>\n",
       "      <td>0b1e1539f2cc45b7b9fa7c272da2e1d7</td>\n",
       "      <td>discount</td>\n",
       "      <td>5</td>\n",
       "    </tr>\n",
       "    <tr>\n",
       "      <th>5</th>\n",
       "      <td>[web, email, mobile, social]</td>\n",
       "      <td>7</td>\n",
       "      <td>7</td>\n",
       "      <td>2298d6c36e964ae4a3e7e9706d1fb8c2</td>\n",
       "      <td>discount</td>\n",
       "      <td>3</td>\n",
       "    </tr>\n",
       "    <tr>\n",
       "      <th>6</th>\n",
       "      <td>[web, email, mobile, social]</td>\n",
       "      <td>10</td>\n",
       "      <td>10</td>\n",
       "      <td>fafdcd668e3743c1bb461111dcafc2a4</td>\n",
       "      <td>discount</td>\n",
       "      <td>2</td>\n",
       "    </tr>\n",
       "    <tr>\n",
       "      <th>7</th>\n",
       "      <td>[email, mobile, social]</td>\n",
       "      <td>0</td>\n",
       "      <td>3</td>\n",
       "      <td>5a8bc65990b245e5a138643cd4eb9837</td>\n",
       "      <td>informational</td>\n",
       "      <td>0</td>\n",
       "    </tr>\n",
       "    <tr>\n",
       "      <th>8</th>\n",
       "      <td>[web, email, mobile, social]</td>\n",
       "      <td>5</td>\n",
       "      <td>5</td>\n",
       "      <td>f19421c1d4aa40978ebb69ca19b0e20d</td>\n",
       "      <td>bogo</td>\n",
       "      <td>5</td>\n",
       "    </tr>\n",
       "    <tr>\n",
       "      <th>9</th>\n",
       "      <td>[web, email, mobile]</td>\n",
       "      <td>10</td>\n",
       "      <td>7</td>\n",
       "      <td>2906b810c7d4411798c6938adc9daaa5</td>\n",
       "      <td>discount</td>\n",
       "      <td>2</td>\n",
       "    </tr>\n",
       "  </tbody>\n",
       "</table>\n",
       "</div>"
      ],
      "text/plain": [
       "                       channels  difficulty  duration  \\\n",
       "0       [email, mobile, social]          10         7   \n",
       "1  [web, email, mobile, social]          10         5   \n",
       "2          [web, email, mobile]           0         4   \n",
       "3          [web, email, mobile]           5         7   \n",
       "4                  [web, email]          20        10   \n",
       "5  [web, email, mobile, social]           7         7   \n",
       "6  [web, email, mobile, social]          10        10   \n",
       "7       [email, mobile, social]           0         3   \n",
       "8  [web, email, mobile, social]           5         5   \n",
       "9          [web, email, mobile]          10         7   \n",
       "\n",
       "                                 id     offer_type  reward  \n",
       "0  ae264e3637204a6fb9bb56bc8210ddfd           bogo      10  \n",
       "1  4d5c57ea9a6940dd891ad53e9dbe8da0           bogo      10  \n",
       "2  3f207df678b143eea3cee63160fa8bed  informational       0  \n",
       "3  9b98b8c7a33c4b65b9aebfe6a799e6d9           bogo       5  \n",
       "4  0b1e1539f2cc45b7b9fa7c272da2e1d7       discount       5  \n",
       "5  2298d6c36e964ae4a3e7e9706d1fb8c2       discount       3  \n",
       "6  fafdcd668e3743c1bb461111dcafc2a4       discount       2  \n",
       "7  5a8bc65990b245e5a138643cd4eb9837  informational       0  \n",
       "8  f19421c1d4aa40978ebb69ca19b0e20d           bogo       5  \n",
       "9  2906b810c7d4411798c6938adc9daaa5       discount       2  "
      ]
     },
     "execution_count": 2,
     "metadata": {},
     "output_type": "execute_result"
    }
   ],
   "source": [
    "print(\"portfolio:\\nNumber of rows:{}, Number of columns:{}\".format(portfolio.shape[0], portfolio.shape[1]))\n",
    "portfolio"
   ]
  },
  {
   "cell_type": "code",
   "execution_count": 3,
   "metadata": {},
   "outputs": [
    {
     "name": "stdout",
     "output_type": "stream",
     "text": [
      "profile:\n",
      "Number of rows:17000, Number of columns:5\n"
     ]
    },
    {
     "data": {
      "text/html": [
       "<div>\n",
       "<style scoped>\n",
       "    .dataframe tbody tr th:only-of-type {\n",
       "        vertical-align: middle;\n",
       "    }\n",
       "\n",
       "    .dataframe tbody tr th {\n",
       "        vertical-align: top;\n",
       "    }\n",
       "\n",
       "    .dataframe thead th {\n",
       "        text-align: right;\n",
       "    }\n",
       "</style>\n",
       "<table border=\"1\" class=\"dataframe\">\n",
       "  <thead>\n",
       "    <tr style=\"text-align: right;\">\n",
       "      <th></th>\n",
       "      <th>age</th>\n",
       "      <th>became_member_on</th>\n",
       "      <th>gender</th>\n",
       "      <th>id</th>\n",
       "      <th>income</th>\n",
       "    </tr>\n",
       "  </thead>\n",
       "  <tbody>\n",
       "    <tr>\n",
       "      <th>0</th>\n",
       "      <td>118</td>\n",
       "      <td>20170212</td>\n",
       "      <td>None</td>\n",
       "      <td>68be06ca386d4c31939f3a4f0e3dd783</td>\n",
       "      <td>NaN</td>\n",
       "    </tr>\n",
       "    <tr>\n",
       "      <th>1</th>\n",
       "      <td>55</td>\n",
       "      <td>20170715</td>\n",
       "      <td>F</td>\n",
       "      <td>0610b486422d4921ae7d2bf64640c50b</td>\n",
       "      <td>112000.0</td>\n",
       "    </tr>\n",
       "    <tr>\n",
       "      <th>2</th>\n",
       "      <td>118</td>\n",
       "      <td>20180712</td>\n",
       "      <td>None</td>\n",
       "      <td>38fe809add3b4fcf9315a9694bb96ff5</td>\n",
       "      <td>NaN</td>\n",
       "    </tr>\n",
       "    <tr>\n",
       "      <th>3</th>\n",
       "      <td>75</td>\n",
       "      <td>20170509</td>\n",
       "      <td>F</td>\n",
       "      <td>78afa995795e4d85b5d9ceeca43f5fef</td>\n",
       "      <td>100000.0</td>\n",
       "    </tr>\n",
       "    <tr>\n",
       "      <th>4</th>\n",
       "      <td>118</td>\n",
       "      <td>20170804</td>\n",
       "      <td>None</td>\n",
       "      <td>a03223e636434f42ac4c3df47e8bac43</td>\n",
       "      <td>NaN</td>\n",
       "    </tr>\n",
       "  </tbody>\n",
       "</table>\n",
       "</div>"
      ],
      "text/plain": [
       "   age  became_member_on gender                                id    income\n",
       "0  118          20170212   None  68be06ca386d4c31939f3a4f0e3dd783       NaN\n",
       "1   55          20170715      F  0610b486422d4921ae7d2bf64640c50b  112000.0\n",
       "2  118          20180712   None  38fe809add3b4fcf9315a9694bb96ff5       NaN\n",
       "3   75          20170509      F  78afa995795e4d85b5d9ceeca43f5fef  100000.0\n",
       "4  118          20170804   None  a03223e636434f42ac4c3df47e8bac43       NaN"
      ]
     },
     "execution_count": 3,
     "metadata": {},
     "output_type": "execute_result"
    }
   ],
   "source": [
    "print(\"profile:\\nNumber of rows:{}, Number of columns:{}\".format(profile.shape[0], profile.shape[1]))\n",
    "profile.head()"
   ]
  },
  {
   "cell_type": "code",
   "execution_count": 4,
   "metadata": {},
   "outputs": [
    {
     "name": "stdout",
     "output_type": "stream",
     "text": [
      "transcript:\n",
      "Number of rows:306534, Number of columns:4\n"
     ]
    },
    {
     "data": {
      "text/html": [
       "<div>\n",
       "<style scoped>\n",
       "    .dataframe tbody tr th:only-of-type {\n",
       "        vertical-align: middle;\n",
       "    }\n",
       "\n",
       "    .dataframe tbody tr th {\n",
       "        vertical-align: top;\n",
       "    }\n",
       "\n",
       "    .dataframe thead th {\n",
       "        text-align: right;\n",
       "    }\n",
       "</style>\n",
       "<table border=\"1\" class=\"dataframe\">\n",
       "  <thead>\n",
       "    <tr style=\"text-align: right;\">\n",
       "      <th></th>\n",
       "      <th>event</th>\n",
       "      <th>person</th>\n",
       "      <th>time</th>\n",
       "      <th>value</th>\n",
       "    </tr>\n",
       "  </thead>\n",
       "  <tbody>\n",
       "    <tr>\n",
       "      <th>0</th>\n",
       "      <td>offer received</td>\n",
       "      <td>78afa995795e4d85b5d9ceeca43f5fef</td>\n",
       "      <td>0</td>\n",
       "      <td>{'offer id': '9b98b8c7a33c4b65b9aebfe6a799e6d9'}</td>\n",
       "    </tr>\n",
       "    <tr>\n",
       "      <th>1</th>\n",
       "      <td>offer received</td>\n",
       "      <td>a03223e636434f42ac4c3df47e8bac43</td>\n",
       "      <td>0</td>\n",
       "      <td>{'offer id': '0b1e1539f2cc45b7b9fa7c272da2e1d7'}</td>\n",
       "    </tr>\n",
       "    <tr>\n",
       "      <th>2</th>\n",
       "      <td>offer received</td>\n",
       "      <td>e2127556f4f64592b11af22de27a7932</td>\n",
       "      <td>0</td>\n",
       "      <td>{'offer id': '2906b810c7d4411798c6938adc9daaa5'}</td>\n",
       "    </tr>\n",
       "    <tr>\n",
       "      <th>3</th>\n",
       "      <td>offer received</td>\n",
       "      <td>8ec6ce2a7e7949b1bf142def7d0e0586</td>\n",
       "      <td>0</td>\n",
       "      <td>{'offer id': 'fafdcd668e3743c1bb461111dcafc2a4'}</td>\n",
       "    </tr>\n",
       "    <tr>\n",
       "      <th>4</th>\n",
       "      <td>offer received</td>\n",
       "      <td>68617ca6246f4fbc85e91a2a49552598</td>\n",
       "      <td>0</td>\n",
       "      <td>{'offer id': '4d5c57ea9a6940dd891ad53e9dbe8da0'}</td>\n",
       "    </tr>\n",
       "  </tbody>\n",
       "</table>\n",
       "</div>"
      ],
      "text/plain": [
       "            event                            person  time  \\\n",
       "0  offer received  78afa995795e4d85b5d9ceeca43f5fef     0   \n",
       "1  offer received  a03223e636434f42ac4c3df47e8bac43     0   \n",
       "2  offer received  e2127556f4f64592b11af22de27a7932     0   \n",
       "3  offer received  8ec6ce2a7e7949b1bf142def7d0e0586     0   \n",
       "4  offer received  68617ca6246f4fbc85e91a2a49552598     0   \n",
       "\n",
       "                                              value  \n",
       "0  {'offer id': '9b98b8c7a33c4b65b9aebfe6a799e6d9'}  \n",
       "1  {'offer id': '0b1e1539f2cc45b7b9fa7c272da2e1d7'}  \n",
       "2  {'offer id': '2906b810c7d4411798c6938adc9daaa5'}  \n",
       "3  {'offer id': 'fafdcd668e3743c1bb461111dcafc2a4'}  \n",
       "4  {'offer id': '4d5c57ea9a6940dd891ad53e9dbe8da0'}  "
      ]
     },
     "execution_count": 4,
     "metadata": {},
     "output_type": "execute_result"
    }
   ],
   "source": [
    "print(\"transcript:\\nNumber of rows:{}, Number of columns:{}\".format(transcript.shape[0], transcript.shape[1]))\n",
    "transcript.head()"
   ]
  },
  {
   "cell_type": "markdown",
   "metadata": {},
   "source": [
    "## Exploratory Data Analysis\n",
    "Now that the data has been loaded, it is then cleaned, explored and preprocessed. This involves (in no particular order):\n",
    "\n",
    "- Checking for the unique and missing values in columns. \n",
    "- Using visualizations to examine patterns in the datasets\n",
    "- Merging the datasets to become a more detailed set to be used in the learning algorithm\n",
    "- Converting Categorical data to numeric data"
   ]
  },
  {
   "cell_type": "markdown",
   "metadata": {},
   "source": [
    "### Checking for Unique and Missing Values in columns\n",
    "First, columns in the datasets are checked for missing values. "
   ]
  },
  {
   "cell_type": "code",
   "execution_count": 5,
   "metadata": {},
   "outputs": [
    {
     "name": "stdout",
     "output_type": "stream",
     "text": [
      "[[], ['gender', 'income'], []]\n"
     ]
    }
   ],
   "source": [
    "print([missing_val_check(dataset) for dataset in [portfolio, profile, transcript]])"
   ]
  },
  {
   "cell_type": "markdown",
   "metadata": {},
   "source": [
    "There seems to be some missing values in the 'gender' and 'income' columns of the 'profile' dataset. The amount of missing values in these columns is checked"
   ]
  },
  {
   "cell_type": "code",
   "execution_count": 6,
   "metadata": {},
   "outputs": [
    {
     "name": "stdout",
     "output_type": "stream",
     "text": [
      "Col: gender\n",
      " Amount of missing values:2175, Percentage:0.12794117647058822\n",
      "\n",
      "\n",
      "Col: income\n",
      " Amount of missing values:2175, Percentage:0.12794117647058822\n",
      "\n",
      "\n"
     ]
    }
   ],
   "source": [
    "for col in ['gender', 'income']:\n",
    "    print(\"Col: {0}\\n Amount of missing values:{1}, Percentage:{2}\\n\\n\"\n",
    "          .format(col, profile[col].isnull().sum(), (profile[col].isnull().sum()/profile.shape[0])))"
   ]
  },
  {
   "cell_type": "markdown",
   "metadata": {},
   "source": [
    "12 percent of the data is missing in both columns. Dropping the columns is a not a good idea since both features are relevant. Dropping the rows with the missing values is also a bad idea because we would be losing a good amount of customer information.\n",
    "These missing values will be dealt with using imputation later on.\n",
    "\n",
    "Then, certain features in the datasets are examined to discover unique values and their counts. First, the 'event' and 'value' features in the transcript dataset are examined to identify the types of events and the values for such events."
   ]
  },
  {
   "cell_type": "code",
   "execution_count": 7,
   "metadata": {},
   "outputs": [
    {
     "data": {
      "text/plain": [
       "transaction        138953\n",
       "offer received      76277\n",
       "offer viewed        57725\n",
       "offer completed     33579\n",
       "Name: event, dtype: int64"
      ]
     },
     "execution_count": 7,
     "metadata": {},
     "output_type": "execute_result"
    }
   ],
   "source": [
    "# We check for the unique events in the 'event' feature of the transcript\n",
    "# dataset. This feature shows the type of event which took place for each \n",
    "# transaction.\n",
    "\n",
    "transcript['event'].value_counts()"
   ]
  },
  {
   "cell_type": "code",
   "execution_count": 8,
   "metadata": {},
   "outputs": [
    {
     "data": {
      "text/plain": [
       "{'offer id': '2298d6c36e964ae4a3e7e9706d1fb8c2'}                  14983\n",
       "{'offer id': 'fafdcd668e3743c1bb461111dcafc2a4'}                  14924\n",
       "{'offer id': '4d5c57ea9a6940dd891ad53e9dbe8da0'}                  14891\n",
       "{'offer id': 'f19421c1d4aa40978ebb69ca19b0e20d'}                  14835\n",
       "{'offer id': 'ae264e3637204a6fb9bb56bc8210ddfd'}                  14374\n",
       "{'offer id': '5a8bc65990b245e5a138643cd4eb9837'}                  14305\n",
       "{'offer id': '9b98b8c7a33c4b65b9aebfe6a799e6d9'}                  11848\n",
       "{'offer id': '3f207df678b143eea3cee63160fa8bed'}                  11761\n",
       "{'offer id': '2906b810c7d4411798c6938adc9daaa5'}                  11750\n",
       "{'offer id': '0b1e1539f2cc45b7b9fa7c272da2e1d7'}                  10331\n",
       "{'offer_id': 'fafdcd668e3743c1bb461111dcafc2a4', 'reward': 2}      5317\n",
       "{'offer_id': '2298d6c36e964ae4a3e7e9706d1fb8c2', 'reward': 3}      5156\n",
       "{'offer_id': '9b98b8c7a33c4b65b9aebfe6a799e6d9', 'reward': 5}      4354\n",
       "{'offer_id': 'f19421c1d4aa40978ebb69ca19b0e20d', 'reward': 5}      4296\n",
       "{'offer_id': '2906b810c7d4411798c6938adc9daaa5', 'reward': 2}      4017\n",
       "{'offer_id': 'ae264e3637204a6fb9bb56bc8210ddfd', 'reward': 10}     3688\n",
       "{'offer_id': '0b1e1539f2cc45b7b9fa7c272da2e1d7', 'reward': 5}      3420\n",
       "{'offer_id': '4d5c57ea9a6940dd891ad53e9dbe8da0', 'reward': 10}     3331\n",
       "{'amount': 0.05}                                                    431\n",
       "{'amount': 0.66}                                                    166\n",
       "{'amount': 1.18}                                                    165\n",
       "{'amount': 1.01}                                                    163\n",
       "{'amount': 1.23}                                                    161\n",
       "{'amount': 0.9}                                                     161\n",
       "{'amount': 0.53}                                                    159\n",
       "{'amount': 0.5}                                                     159\n",
       "{'amount': 1.19}                                                    159\n",
       "{'amount': 0.79}                                                    157\n",
       "{'amount': 1.5}                                                     156\n",
       "{'amount': 0.92}                                                    156\n",
       "                                                                  ...  \n",
       "{'amount': 49.73}                                                     1\n",
       "{'amount': 749.29}                                                    1\n",
       "{'amount': 83.03}                                                     1\n",
       "{'amount': 51.06}                                                     1\n",
       "{'amount': 53.4}                                                      1\n",
       "{'amount': 47.2}                                                      1\n",
       "{'amount': 1015.73}                                                   1\n",
       "{'amount': 40.83}                                                     1\n",
       "{'amount': 54.44}                                                     1\n",
       "{'amount': 39.82}                                                     1\n",
       "{'amount': 456.79}                                                    1\n",
       "{'amount': 49.82}                                                     1\n",
       "{'amount': 41.61}                                                     1\n",
       "{'amount': 619.63}                                                    1\n",
       "{'amount': 50.37}                                                     1\n",
       "{'amount': 45.76}                                                     1\n",
       "{'amount': 36.99}                                                     1\n",
       "{'amount': 773.21}                                                    1\n",
       "{'amount': 577.21}                                                    1\n",
       "{'amount': 37.3}                                                      1\n",
       "{'amount': 792.54}                                                    1\n",
       "{'amount': 49.38}                                                     1\n",
       "{'amount': 769.04}                                                    1\n",
       "{'amount': 384.03}                                                    1\n",
       "{'amount': 493.4}                                                     1\n",
       "{'amount': 439.14}                                                    1\n",
       "{'amount': 42.75}                                                     1\n",
       "{'amount': 650.75}                                                    1\n",
       "{'amount': 943.4}                                                     1\n",
       "{'amount': 44.21}                                                     1\n",
       "Name: value, Length: 5121, dtype: int64"
      ]
     },
     "execution_count": 8,
     "metadata": {},
     "output_type": "execute_result"
    }
   ],
   "source": [
    "# We also check for the unique values in the 'value' dataset\n",
    "\n",
    "transcript['value'].value_counts()"
   ]
  },
  {
   "cell_type": "markdown",
   "metadata": {},
   "source": [
    "From the cell above we can see that the variables in the 'value' dataset are in 3 forms:\n",
    "- A dictionary containing one key-value pair where the key is 'offer id'.\n",
    "- A dictionary containing one key-value pair where the key is 'amount'.\n",
    "- A dictionary containing 2 key-value pairs where the keys are 'offer id' and 'reward'. \n",
    "\n",
    "Next I examine how these variables are associated with each type of event."
   ]
  },
  {
   "cell_type": "code",
   "execution_count": 9,
   "metadata": {},
   "outputs": [
    {
     "data": {
      "text/plain": [
       "'offer received'"
      ]
     },
     "metadata": {},
     "output_type": "display_data"
    },
    {
     "data": {
      "text/html": [
       "<div>\n",
       "<style scoped>\n",
       "    .dataframe tbody tr th:only-of-type {\n",
       "        vertical-align: middle;\n",
       "    }\n",
       "\n",
       "    .dataframe tbody tr th {\n",
       "        vertical-align: top;\n",
       "    }\n",
       "\n",
       "    .dataframe thead th {\n",
       "        text-align: right;\n",
       "    }\n",
       "</style>\n",
       "<table border=\"1\" class=\"dataframe\">\n",
       "  <thead>\n",
       "    <tr style=\"text-align: right;\">\n",
       "      <th></th>\n",
       "      <th>event</th>\n",
       "      <th>person</th>\n",
       "      <th>time</th>\n",
       "      <th>value</th>\n",
       "    </tr>\n",
       "  </thead>\n",
       "  <tbody>\n",
       "    <tr>\n",
       "      <th>0</th>\n",
       "      <td>offer received</td>\n",
       "      <td>78afa995795e4d85b5d9ceeca43f5fef</td>\n",
       "      <td>0</td>\n",
       "      <td>{'offer id': '9b98b8c7a33c4b65b9aebfe6a799e6d9'}</td>\n",
       "    </tr>\n",
       "    <tr>\n",
       "      <th>1</th>\n",
       "      <td>offer received</td>\n",
       "      <td>a03223e636434f42ac4c3df47e8bac43</td>\n",
       "      <td>0</td>\n",
       "      <td>{'offer id': '0b1e1539f2cc45b7b9fa7c272da2e1d7'}</td>\n",
       "    </tr>\n",
       "    <tr>\n",
       "      <th>2</th>\n",
       "      <td>offer received</td>\n",
       "      <td>e2127556f4f64592b11af22de27a7932</td>\n",
       "      <td>0</td>\n",
       "      <td>{'offer id': '2906b810c7d4411798c6938adc9daaa5'}</td>\n",
       "    </tr>\n",
       "    <tr>\n",
       "      <th>3</th>\n",
       "      <td>offer received</td>\n",
       "      <td>8ec6ce2a7e7949b1bf142def7d0e0586</td>\n",
       "      <td>0</td>\n",
       "      <td>{'offer id': 'fafdcd668e3743c1bb461111dcafc2a4'}</td>\n",
       "    </tr>\n",
       "    <tr>\n",
       "      <th>4</th>\n",
       "      <td>offer received</td>\n",
       "      <td>68617ca6246f4fbc85e91a2a49552598</td>\n",
       "      <td>0</td>\n",
       "      <td>{'offer id': '4d5c57ea9a6940dd891ad53e9dbe8da0'}</td>\n",
       "    </tr>\n",
       "  </tbody>\n",
       "</table>\n",
       "</div>"
      ],
      "text/plain": [
       "            event                            person  time  \\\n",
       "0  offer received  78afa995795e4d85b5d9ceeca43f5fef     0   \n",
       "1  offer received  a03223e636434f42ac4c3df47e8bac43     0   \n",
       "2  offer received  e2127556f4f64592b11af22de27a7932     0   \n",
       "3  offer received  8ec6ce2a7e7949b1bf142def7d0e0586     0   \n",
       "4  offer received  68617ca6246f4fbc85e91a2a49552598     0   \n",
       "\n",
       "                                              value  \n",
       "0  {'offer id': '9b98b8c7a33c4b65b9aebfe6a799e6d9'}  \n",
       "1  {'offer id': '0b1e1539f2cc45b7b9fa7c272da2e1d7'}  \n",
       "2  {'offer id': '2906b810c7d4411798c6938adc9daaa5'}  \n",
       "3  {'offer id': 'fafdcd668e3743c1bb461111dcafc2a4'}  \n",
       "4  {'offer id': '4d5c57ea9a6940dd891ad53e9dbe8da0'}  "
      ]
     },
     "metadata": {},
     "output_type": "display_data"
    },
    {
     "data": {
      "text/plain": [
       "'offer viewed'"
      ]
     },
     "metadata": {},
     "output_type": "display_data"
    },
    {
     "data": {
      "text/html": [
       "<div>\n",
       "<style scoped>\n",
       "    .dataframe tbody tr th:only-of-type {\n",
       "        vertical-align: middle;\n",
       "    }\n",
       "\n",
       "    .dataframe tbody tr th {\n",
       "        vertical-align: top;\n",
       "    }\n",
       "\n",
       "    .dataframe thead th {\n",
       "        text-align: right;\n",
       "    }\n",
       "</style>\n",
       "<table border=\"1\" class=\"dataframe\">\n",
       "  <thead>\n",
       "    <tr style=\"text-align: right;\">\n",
       "      <th></th>\n",
       "      <th>event</th>\n",
       "      <th>person</th>\n",
       "      <th>time</th>\n",
       "      <th>value</th>\n",
       "    </tr>\n",
       "  </thead>\n",
       "  <tbody>\n",
       "    <tr>\n",
       "      <th>12650</th>\n",
       "      <td>offer viewed</td>\n",
       "      <td>389bc3fa690240e798340f5a15918d5c</td>\n",
       "      <td>0</td>\n",
       "      <td>{'offer id': 'f19421c1d4aa40978ebb69ca19b0e20d'}</td>\n",
       "    </tr>\n",
       "    <tr>\n",
       "      <th>12651</th>\n",
       "      <td>offer viewed</td>\n",
       "      <td>d1ede868e29245ea91818a903fec04c6</td>\n",
       "      <td>0</td>\n",
       "      <td>{'offer id': '5a8bc65990b245e5a138643cd4eb9837'}</td>\n",
       "    </tr>\n",
       "    <tr>\n",
       "      <th>12652</th>\n",
       "      <td>offer viewed</td>\n",
       "      <td>102e9454054946fda62242d2e176fdce</td>\n",
       "      <td>0</td>\n",
       "      <td>{'offer id': '4d5c57ea9a6940dd891ad53e9dbe8da0'}</td>\n",
       "    </tr>\n",
       "    <tr>\n",
       "      <th>12653</th>\n",
       "      <td>offer viewed</td>\n",
       "      <td>02c083884c7d45b39cc68e1314fec56c</td>\n",
       "      <td>0</td>\n",
       "      <td>{'offer id': 'ae264e3637204a6fb9bb56bc8210ddfd'}</td>\n",
       "    </tr>\n",
       "    <tr>\n",
       "      <th>12655</th>\n",
       "      <td>offer viewed</td>\n",
       "      <td>be8a5d1981a2458d90b255ddc7e0d174</td>\n",
       "      <td>0</td>\n",
       "      <td>{'offer id': '5a8bc65990b245e5a138643cd4eb9837'}</td>\n",
       "    </tr>\n",
       "  </tbody>\n",
       "</table>\n",
       "</div>"
      ],
      "text/plain": [
       "              event                            person  time  \\\n",
       "12650  offer viewed  389bc3fa690240e798340f5a15918d5c     0   \n",
       "12651  offer viewed  d1ede868e29245ea91818a903fec04c6     0   \n",
       "12652  offer viewed  102e9454054946fda62242d2e176fdce     0   \n",
       "12653  offer viewed  02c083884c7d45b39cc68e1314fec56c     0   \n",
       "12655  offer viewed  be8a5d1981a2458d90b255ddc7e0d174     0   \n",
       "\n",
       "                                                  value  \n",
       "12650  {'offer id': 'f19421c1d4aa40978ebb69ca19b0e20d'}  \n",
       "12651  {'offer id': '5a8bc65990b245e5a138643cd4eb9837'}  \n",
       "12652  {'offer id': '4d5c57ea9a6940dd891ad53e9dbe8da0'}  \n",
       "12653  {'offer id': 'ae264e3637204a6fb9bb56bc8210ddfd'}  \n",
       "12655  {'offer id': '5a8bc65990b245e5a138643cd4eb9837'}  "
      ]
     },
     "metadata": {},
     "output_type": "display_data"
    },
    {
     "data": {
      "text/plain": [
       "'transaction'"
      ]
     },
     "metadata": {},
     "output_type": "display_data"
    },
    {
     "data": {
      "text/html": [
       "<div>\n",
       "<style scoped>\n",
       "    .dataframe tbody tr th:only-of-type {\n",
       "        vertical-align: middle;\n",
       "    }\n",
       "\n",
       "    .dataframe tbody tr th {\n",
       "        vertical-align: top;\n",
       "    }\n",
       "\n",
       "    .dataframe thead th {\n",
       "        text-align: right;\n",
       "    }\n",
       "</style>\n",
       "<table border=\"1\" class=\"dataframe\">\n",
       "  <thead>\n",
       "    <tr style=\"text-align: right;\">\n",
       "      <th></th>\n",
       "      <th>event</th>\n",
       "      <th>person</th>\n",
       "      <th>time</th>\n",
       "      <th>value</th>\n",
       "    </tr>\n",
       "  </thead>\n",
       "  <tbody>\n",
       "    <tr>\n",
       "      <th>12654</th>\n",
       "      <td>transaction</td>\n",
       "      <td>02c083884c7d45b39cc68e1314fec56c</td>\n",
       "      <td>0</td>\n",
       "      <td>{'amount': 0.8300000000000001}</td>\n",
       "    </tr>\n",
       "    <tr>\n",
       "      <th>12657</th>\n",
       "      <td>transaction</td>\n",
       "      <td>9fa9ae8f57894cc9a3b8a9bbe0fc1b2f</td>\n",
       "      <td>0</td>\n",
       "      <td>{'amount': 34.56}</td>\n",
       "    </tr>\n",
       "    <tr>\n",
       "      <th>12659</th>\n",
       "      <td>transaction</td>\n",
       "      <td>54890f68699049c2a04d415abc25e717</td>\n",
       "      <td>0</td>\n",
       "      <td>{'amount': 13.23}</td>\n",
       "    </tr>\n",
       "    <tr>\n",
       "      <th>12670</th>\n",
       "      <td>transaction</td>\n",
       "      <td>b2f1cd155b864803ad8334cdf13c4bd2</td>\n",
       "      <td>0</td>\n",
       "      <td>{'amount': 19.51}</td>\n",
       "    </tr>\n",
       "    <tr>\n",
       "      <th>12671</th>\n",
       "      <td>transaction</td>\n",
       "      <td>fe97aa22dd3e48c8b143116a8403dd52</td>\n",
       "      <td>0</td>\n",
       "      <td>{'amount': 18.97}</td>\n",
       "    </tr>\n",
       "  </tbody>\n",
       "</table>\n",
       "</div>"
      ],
      "text/plain": [
       "             event                            person  time  \\\n",
       "12654  transaction  02c083884c7d45b39cc68e1314fec56c     0   \n",
       "12657  transaction  9fa9ae8f57894cc9a3b8a9bbe0fc1b2f     0   \n",
       "12659  transaction  54890f68699049c2a04d415abc25e717     0   \n",
       "12670  transaction  b2f1cd155b864803ad8334cdf13c4bd2     0   \n",
       "12671  transaction  fe97aa22dd3e48c8b143116a8403dd52     0   \n",
       "\n",
       "                                value  \n",
       "12654  {'amount': 0.8300000000000001}  \n",
       "12657               {'amount': 34.56}  \n",
       "12659               {'amount': 13.23}  \n",
       "12670               {'amount': 19.51}  \n",
       "12671               {'amount': 18.97}  "
      ]
     },
     "metadata": {},
     "output_type": "display_data"
    },
    {
     "data": {
      "text/plain": [
       "'offer completed'"
      ]
     },
     "metadata": {},
     "output_type": "display_data"
    },
    {
     "data": {
      "text/html": [
       "<div>\n",
       "<style scoped>\n",
       "    .dataframe tbody tr th:only-of-type {\n",
       "        vertical-align: middle;\n",
       "    }\n",
       "\n",
       "    .dataframe tbody tr th {\n",
       "        vertical-align: top;\n",
       "    }\n",
       "\n",
       "    .dataframe thead th {\n",
       "        text-align: right;\n",
       "    }\n",
       "</style>\n",
       "<table border=\"1\" class=\"dataframe\">\n",
       "  <thead>\n",
       "    <tr style=\"text-align: right;\">\n",
       "      <th></th>\n",
       "      <th>event</th>\n",
       "      <th>person</th>\n",
       "      <th>time</th>\n",
       "      <th>value</th>\n",
       "    </tr>\n",
       "  </thead>\n",
       "  <tbody>\n",
       "    <tr>\n",
       "      <th>12658</th>\n",
       "      <td>offer completed</td>\n",
       "      <td>9fa9ae8f57894cc9a3b8a9bbe0fc1b2f</td>\n",
       "      <td>0</td>\n",
       "      <td>{'offer_id': '2906b810c7d4411798c6938adc9daaa5...</td>\n",
       "    </tr>\n",
       "    <tr>\n",
       "      <th>12672</th>\n",
       "      <td>offer completed</td>\n",
       "      <td>fe97aa22dd3e48c8b143116a8403dd52</td>\n",
       "      <td>0</td>\n",
       "      <td>{'offer_id': 'fafdcd668e3743c1bb461111dcafc2a4...</td>\n",
       "    </tr>\n",
       "    <tr>\n",
       "      <th>12679</th>\n",
       "      <td>offer completed</td>\n",
       "      <td>629fc02d56414d91bca360decdfa9288</td>\n",
       "      <td>0</td>\n",
       "      <td>{'offer_id': '9b98b8c7a33c4b65b9aebfe6a799e6d9...</td>\n",
       "    </tr>\n",
       "    <tr>\n",
       "      <th>12692</th>\n",
       "      <td>offer completed</td>\n",
       "      <td>676506bad68e4161b9bbaffeb039626b</td>\n",
       "      <td>0</td>\n",
       "      <td>{'offer_id': 'ae264e3637204a6fb9bb56bc8210ddfd...</td>\n",
       "    </tr>\n",
       "    <tr>\n",
       "      <th>12697</th>\n",
       "      <td>offer completed</td>\n",
       "      <td>8f7dd3b2afe14c078eb4f6e6fe4ba97d</td>\n",
       "      <td>0</td>\n",
       "      <td>{'offer_id': '4d5c57ea9a6940dd891ad53e9dbe8da0...</td>\n",
       "    </tr>\n",
       "  </tbody>\n",
       "</table>\n",
       "</div>"
      ],
      "text/plain": [
       "                 event                            person  time  \\\n",
       "12658  offer completed  9fa9ae8f57894cc9a3b8a9bbe0fc1b2f     0   \n",
       "12672  offer completed  fe97aa22dd3e48c8b143116a8403dd52     0   \n",
       "12679  offer completed  629fc02d56414d91bca360decdfa9288     0   \n",
       "12692  offer completed  676506bad68e4161b9bbaffeb039626b     0   \n",
       "12697  offer completed  8f7dd3b2afe14c078eb4f6e6fe4ba97d     0   \n",
       "\n",
       "                                                   value  \n",
       "12658  {'offer_id': '2906b810c7d4411798c6938adc9daaa5...  \n",
       "12672  {'offer_id': 'fafdcd668e3743c1bb461111dcafc2a4...  \n",
       "12679  {'offer_id': '9b98b8c7a33c4b65b9aebfe6a799e6d9...  \n",
       "12692  {'offer_id': 'ae264e3637204a6fb9bb56bc8210ddfd...  \n",
       "12697  {'offer_id': '4d5c57ea9a6940dd891ad53e9dbe8da0...  "
      ]
     },
     "metadata": {},
     "output_type": "display_data"
    }
   ],
   "source": [
    "for event in transcript['event'].unique():\n",
    "    display(event, transcript.loc[transcript['event'] == event].head())\n",
    "\n",
    "# transcript.sample(n=5)"
   ]
  },
  {
   "cell_type": "markdown",
   "metadata": {},
   "source": [
    "We can see that the 'offer received' and 'offer viewed' events are associated with the value {'offer id':'...'}, the 'offer completed' event is associated with the value {'offer id':'...', 'reward':'...'} and the nature of the value for the 'transaction' event is {'amount':...}; which makes complete sense. "
   ]
  },
  {
   "cell_type": "markdown",
   "metadata": {},
   "source": [
    "### Merging the Datasets\n",
    "\n",
    "First, the profile dataset is merged with the transactions dataset so each transaction has a customer profile attached to it.\n",
    "\n",
    "Then I create a new feature 'unzipped_value' to store the values in each dictionary in the 'value' feature. For the value which corresponds to the 'offer completed' event i.e the one containing two keys: 'offer id' and 'reward', I only retain the value for 'offer id' as I might not necessarily need the reward value."
   ]
  },
  {
   "cell_type": "code",
   "execution_count": 10,
   "metadata": {},
   "outputs": [
    {
     "name": "stdout",
     "output_type": "stream",
     "text": [
      "(306534, 9)\n"
     ]
    },
    {
     "data": {
      "text/html": [
       "<div>\n",
       "<style scoped>\n",
       "    .dataframe tbody tr th:only-of-type {\n",
       "        vertical-align: middle;\n",
       "    }\n",
       "\n",
       "    .dataframe tbody tr th {\n",
       "        vertical-align: top;\n",
       "    }\n",
       "\n",
       "    .dataframe thead th {\n",
       "        text-align: right;\n",
       "    }\n",
       "</style>\n",
       "<table border=\"1\" class=\"dataframe\">\n",
       "  <thead>\n",
       "    <tr style=\"text-align: right;\">\n",
       "      <th></th>\n",
       "      <th>age</th>\n",
       "      <th>became_member_on</th>\n",
       "      <th>gender</th>\n",
       "      <th>income</th>\n",
       "      <th>event</th>\n",
       "      <th>person</th>\n",
       "      <th>time</th>\n",
       "      <th>value</th>\n",
       "      <th>unzipped_value</th>\n",
       "    </tr>\n",
       "  </thead>\n",
       "  <tbody>\n",
       "    <tr>\n",
       "      <th>0</th>\n",
       "      <td>118</td>\n",
       "      <td>20170212</td>\n",
       "      <td>None</td>\n",
       "      <td>NaN</td>\n",
       "      <td>offer received</td>\n",
       "      <td>68be06ca386d4c31939f3a4f0e3dd783</td>\n",
       "      <td>168</td>\n",
       "      <td>{'offer id': '2906b810c7d4411798c6938adc9daaa5'}</td>\n",
       "      <td>2906b810c7d4411798c6938adc9daaa5</td>\n",
       "    </tr>\n",
       "    <tr>\n",
       "      <th>1</th>\n",
       "      <td>118</td>\n",
       "      <td>20170212</td>\n",
       "      <td>None</td>\n",
       "      <td>NaN</td>\n",
       "      <td>offer viewed</td>\n",
       "      <td>68be06ca386d4c31939f3a4f0e3dd783</td>\n",
       "      <td>216</td>\n",
       "      <td>{'offer id': '2906b810c7d4411798c6938adc9daaa5'}</td>\n",
       "      <td>2906b810c7d4411798c6938adc9daaa5</td>\n",
       "    </tr>\n",
       "    <tr>\n",
       "      <th>2</th>\n",
       "      <td>118</td>\n",
       "      <td>20170212</td>\n",
       "      <td>None</td>\n",
       "      <td>NaN</td>\n",
       "      <td>offer received</td>\n",
       "      <td>68be06ca386d4c31939f3a4f0e3dd783</td>\n",
       "      <td>336</td>\n",
       "      <td>{'offer id': '0b1e1539f2cc45b7b9fa7c272da2e1d7'}</td>\n",
       "      <td>0b1e1539f2cc45b7b9fa7c272da2e1d7</td>\n",
       "    </tr>\n",
       "    <tr>\n",
       "      <th>3</th>\n",
       "      <td>118</td>\n",
       "      <td>20170212</td>\n",
       "      <td>None</td>\n",
       "      <td>NaN</td>\n",
       "      <td>offer viewed</td>\n",
       "      <td>68be06ca386d4c31939f3a4f0e3dd783</td>\n",
       "      <td>348</td>\n",
       "      <td>{'offer id': '0b1e1539f2cc45b7b9fa7c272da2e1d7'}</td>\n",
       "      <td>0b1e1539f2cc45b7b9fa7c272da2e1d7</td>\n",
       "    </tr>\n",
       "    <tr>\n",
       "      <th>4</th>\n",
       "      <td>118</td>\n",
       "      <td>20170212</td>\n",
       "      <td>None</td>\n",
       "      <td>NaN</td>\n",
       "      <td>transaction</td>\n",
       "      <td>68be06ca386d4c31939f3a4f0e3dd783</td>\n",
       "      <td>360</td>\n",
       "      <td>{'amount': 0.35000000000000003}</td>\n",
       "      <td>0.35</td>\n",
       "    </tr>\n",
       "  </tbody>\n",
       "</table>\n",
       "</div>"
      ],
      "text/plain": [
       "   age  became_member_on gender  income           event  \\\n",
       "0  118          20170212   None     NaN  offer received   \n",
       "1  118          20170212   None     NaN    offer viewed   \n",
       "2  118          20170212   None     NaN  offer received   \n",
       "3  118          20170212   None     NaN    offer viewed   \n",
       "4  118          20170212   None     NaN     transaction   \n",
       "\n",
       "                             person  time  \\\n",
       "0  68be06ca386d4c31939f3a4f0e3dd783   168   \n",
       "1  68be06ca386d4c31939f3a4f0e3dd783   216   \n",
       "2  68be06ca386d4c31939f3a4f0e3dd783   336   \n",
       "3  68be06ca386d4c31939f3a4f0e3dd783   348   \n",
       "4  68be06ca386d4c31939f3a4f0e3dd783   360   \n",
       "\n",
       "                                              value  \\\n",
       "0  {'offer id': '2906b810c7d4411798c6938adc9daaa5'}   \n",
       "1  {'offer id': '2906b810c7d4411798c6938adc9daaa5'}   \n",
       "2  {'offer id': '0b1e1539f2cc45b7b9fa7c272da2e1d7'}   \n",
       "3  {'offer id': '0b1e1539f2cc45b7b9fa7c272da2e1d7'}   \n",
       "4                   {'amount': 0.35000000000000003}   \n",
       "\n",
       "                     unzipped_value  \n",
       "0  2906b810c7d4411798c6938adc9daaa5  \n",
       "1  2906b810c7d4411798c6938adc9daaa5  \n",
       "2  0b1e1539f2cc45b7b9fa7c272da2e1d7  \n",
       "3  0b1e1539f2cc45b7b9fa7c272da2e1d7  \n",
       "4                              0.35  "
      ]
     },
     "execution_count": 10,
     "metadata": {},
     "output_type": "execute_result"
    }
   ],
   "source": [
    "profile_transcript = merge_datasets(profile, transcript)\n",
    "print(profile_transcript.shape)\n",
    "profile_transcript.head()"
   ]
  },
  {
   "cell_type": "markdown",
   "metadata": {},
   "source": [
    "I also check to see if we got the expected result for the 'offer_completed' event."
   ]
  },
  {
   "cell_type": "code",
   "execution_count": 11,
   "metadata": {},
   "outputs": [
    {
     "data": {
      "text/html": [
       "<div>\n",
       "<style scoped>\n",
       "    .dataframe tbody tr th:only-of-type {\n",
       "        vertical-align: middle;\n",
       "    }\n",
       "\n",
       "    .dataframe tbody tr th {\n",
       "        vertical-align: top;\n",
       "    }\n",
       "\n",
       "    .dataframe thead th {\n",
       "        text-align: right;\n",
       "    }\n",
       "</style>\n",
       "<table border=\"1\" class=\"dataframe\">\n",
       "  <thead>\n",
       "    <tr style=\"text-align: right;\">\n",
       "      <th></th>\n",
       "      <th>age</th>\n",
       "      <th>became_member_on</th>\n",
       "      <th>gender</th>\n",
       "      <th>income</th>\n",
       "      <th>event</th>\n",
       "      <th>person</th>\n",
       "      <th>time</th>\n",
       "      <th>value</th>\n",
       "      <th>unzipped_value</th>\n",
       "    </tr>\n",
       "  </thead>\n",
       "  <tbody>\n",
       "    <tr>\n",
       "      <th>14</th>\n",
       "      <td>118</td>\n",
       "      <td>20170212</td>\n",
       "      <td>None</td>\n",
       "      <td>NaN</td>\n",
       "      <td>offer completed</td>\n",
       "      <td>68be06ca386d4c31939f3a4f0e3dd783</td>\n",
       "      <td>552</td>\n",
       "      <td>{'offer_id': 'fafdcd668e3743c1bb461111dcafc2a4...</td>\n",
       "      <td>fafdcd668e3743c1bb461111dcafc2a4</td>\n",
       "    </tr>\n",
       "    <tr>\n",
       "      <th>15</th>\n",
       "      <td>118</td>\n",
       "      <td>20170212</td>\n",
       "      <td>None</td>\n",
       "      <td>NaN</td>\n",
       "      <td>offer completed</td>\n",
       "      <td>68be06ca386d4c31939f3a4f0e3dd783</td>\n",
       "      <td>552</td>\n",
       "      <td>{'offer_id': '2298d6c36e964ae4a3e7e9706d1fb8c2...</td>\n",
       "      <td>2298d6c36e964ae4a3e7e9706d1fb8c2</td>\n",
       "    </tr>\n",
       "  </tbody>\n",
       "</table>\n",
       "</div>"
      ],
      "text/plain": [
       "    age  became_member_on gender  income            event  \\\n",
       "14  118          20170212   None     NaN  offer completed   \n",
       "15  118          20170212   None     NaN  offer completed   \n",
       "\n",
       "                              person  time  \\\n",
       "14  68be06ca386d4c31939f3a4f0e3dd783   552   \n",
       "15  68be06ca386d4c31939f3a4f0e3dd783   552   \n",
       "\n",
       "                                                value  \\\n",
       "14  {'offer_id': 'fafdcd668e3743c1bb461111dcafc2a4...   \n",
       "15  {'offer_id': '2298d6c36e964ae4a3e7e9706d1fb8c2...   \n",
       "\n",
       "                      unzipped_value  \n",
       "14  fafdcd668e3743c1bb461111dcafc2a4  \n",
       "15  2298d6c36e964ae4a3e7e9706d1fb8c2  "
      ]
     },
     "execution_count": 11,
     "metadata": {},
     "output_type": "execute_result"
    }
   ],
   "source": [
    "profile_transcript.loc[profile_transcript['event'] == 'offer completed'].head(2)"
   ]
  },
  {
   "cell_type": "markdown",
   "metadata": {},
   "source": [
    "\n",
    "### Grouping Customers by Transactions\n",
    "The profile_transcript dataset contains the different transactions performed by each customer. In this section, the customers would be grouped based on the following features.\n",
    "\n",
    "- Number of purchases made\n",
    "- Number of offers received\n",
    "- Number of offers completed\n",
    "- Number of offers viewed\n",
    "- How each customer relates to each offer i.e was the offer received? was the offer viewed? etc.\n",
    "- Total amount of money spent\n",
    " "
   ]
  },
  {
   "cell_type": "markdown",
   "metadata": {},
   "source": [
    "#### Creating the New Features\n",
    "First we create the new features stated above."
   ]
  },
  {
   "cell_type": "code",
   "execution_count": 13,
   "metadata": {},
   "outputs": [
    {
     "name": "stdout",
     "output_type": "stream",
     "text": [
      "New features:\n",
      "['total_purchases', 'total_offers_received', 'total_offers_viewed', 'total_offers_completed', 'bogo_ae264_Rcvd', 'bogo_ae264_Vwd', 'bogo_ae264_Cmpltd', 'bogo_4d5c5_Rcvd', 'bogo_4d5c5_Vwd', 'bogo_4d5c5_Cmpltd', 'info_3f207_Rcvd', 'info_3f207_Vwd', 'info_3f207_Cmpltd', 'bogo_9b98b_Rcvd', 'bogo_9b98b_Vwd', 'bogo_9b98b_Cmpltd', 'disc_0b1e1_Rcvd', 'disc_0b1e1_Vwd', 'disc_0b1e1_Cmpltd', 'disc_2298d_Rcvd', 'disc_2298d_Vwd', 'disc_2298d_Cmpltd', 'disc_fafdc_Rcvd', 'disc_fafdc_Vwd', 'disc_fafdc_Cmpltd', 'info_5a8bc_Rcvd', 'info_5a8bc_Vwd', 'info_5a8bc_Cmpltd', 'bogo_f1942_Rcvd', 'bogo_f1942_Vwd', 'bogo_f1942_Cmpltd', 'disc_2906b_Rcvd', 'disc_2906b_Vwd', 'disc_2906b_Cmpltd', 'total_spend']\n",
      "Number of new features: 35\n"
     ]
    },
    {
     "data": {
      "text/html": [
       "<div>\n",
       "<style scoped>\n",
       "    .dataframe tbody tr th:only-of-type {\n",
       "        vertical-align: middle;\n",
       "    }\n",
       "\n",
       "    .dataframe tbody tr th {\n",
       "        vertical-align: top;\n",
       "    }\n",
       "\n",
       "    .dataframe thead th {\n",
       "        text-align: right;\n",
       "    }\n",
       "</style>\n",
       "<table border=\"1\" class=\"dataframe\">\n",
       "  <thead>\n",
       "    <tr style=\"text-align: right;\">\n",
       "      <th></th>\n",
       "      <th>age</th>\n",
       "      <th>became_member_on</th>\n",
       "      <th>gender</th>\n",
       "      <th>income</th>\n",
       "      <th>event</th>\n",
       "      <th>person</th>\n",
       "      <th>time</th>\n",
       "      <th>value</th>\n",
       "      <th>unzipped_value</th>\n",
       "      <th>total_purchases</th>\n",
       "      <th>...</th>\n",
       "      <th>info_5a8bc_Rcvd</th>\n",
       "      <th>info_5a8bc_Vwd</th>\n",
       "      <th>info_5a8bc_Cmpltd</th>\n",
       "      <th>bogo_f1942_Rcvd</th>\n",
       "      <th>bogo_f1942_Vwd</th>\n",
       "      <th>bogo_f1942_Cmpltd</th>\n",
       "      <th>disc_2906b_Rcvd</th>\n",
       "      <th>disc_2906b_Vwd</th>\n",
       "      <th>disc_2906b_Cmpltd</th>\n",
       "      <th>total_spend</th>\n",
       "    </tr>\n",
       "  </thead>\n",
       "  <tbody>\n",
       "    <tr>\n",
       "      <th>0</th>\n",
       "      <td>118</td>\n",
       "      <td>20170212</td>\n",
       "      <td>None</td>\n",
       "      <td>NaN</td>\n",
       "      <td>offer received</td>\n",
       "      <td>68be06ca386d4c31939f3a4f0e3dd783</td>\n",
       "      <td>168</td>\n",
       "      <td>{'offer id': '2906b810c7d4411798c6938adc9daaa5'}</td>\n",
       "      <td>2906b810c7d4411798c6938adc9daaa5</td>\n",
       "      <td>0</td>\n",
       "      <td>...</td>\n",
       "      <td>0</td>\n",
       "      <td>0</td>\n",
       "      <td>0</td>\n",
       "      <td>0</td>\n",
       "      <td>0</td>\n",
       "      <td>0</td>\n",
       "      <td>1</td>\n",
       "      <td>0</td>\n",
       "      <td>0</td>\n",
       "      <td>0.00</td>\n",
       "    </tr>\n",
       "    <tr>\n",
       "      <th>1</th>\n",
       "      <td>118</td>\n",
       "      <td>20170212</td>\n",
       "      <td>None</td>\n",
       "      <td>NaN</td>\n",
       "      <td>offer viewed</td>\n",
       "      <td>68be06ca386d4c31939f3a4f0e3dd783</td>\n",
       "      <td>216</td>\n",
       "      <td>{'offer id': '2906b810c7d4411798c6938adc9daaa5'}</td>\n",
       "      <td>2906b810c7d4411798c6938adc9daaa5</td>\n",
       "      <td>0</td>\n",
       "      <td>...</td>\n",
       "      <td>0</td>\n",
       "      <td>0</td>\n",
       "      <td>0</td>\n",
       "      <td>0</td>\n",
       "      <td>0</td>\n",
       "      <td>0</td>\n",
       "      <td>0</td>\n",
       "      <td>1</td>\n",
       "      <td>0</td>\n",
       "      <td>0.00</td>\n",
       "    </tr>\n",
       "    <tr>\n",
       "      <th>2</th>\n",
       "      <td>118</td>\n",
       "      <td>20170212</td>\n",
       "      <td>None</td>\n",
       "      <td>NaN</td>\n",
       "      <td>offer received</td>\n",
       "      <td>68be06ca386d4c31939f3a4f0e3dd783</td>\n",
       "      <td>336</td>\n",
       "      <td>{'offer id': '0b1e1539f2cc45b7b9fa7c272da2e1d7'}</td>\n",
       "      <td>0b1e1539f2cc45b7b9fa7c272da2e1d7</td>\n",
       "      <td>0</td>\n",
       "      <td>...</td>\n",
       "      <td>0</td>\n",
       "      <td>0</td>\n",
       "      <td>0</td>\n",
       "      <td>0</td>\n",
       "      <td>0</td>\n",
       "      <td>0</td>\n",
       "      <td>0</td>\n",
       "      <td>0</td>\n",
       "      <td>0</td>\n",
       "      <td>0.00</td>\n",
       "    </tr>\n",
       "    <tr>\n",
       "      <th>3</th>\n",
       "      <td>118</td>\n",
       "      <td>20170212</td>\n",
       "      <td>None</td>\n",
       "      <td>NaN</td>\n",
       "      <td>offer viewed</td>\n",
       "      <td>68be06ca386d4c31939f3a4f0e3dd783</td>\n",
       "      <td>348</td>\n",
       "      <td>{'offer id': '0b1e1539f2cc45b7b9fa7c272da2e1d7'}</td>\n",
       "      <td>0b1e1539f2cc45b7b9fa7c272da2e1d7</td>\n",
       "      <td>0</td>\n",
       "      <td>...</td>\n",
       "      <td>0</td>\n",
       "      <td>0</td>\n",
       "      <td>0</td>\n",
       "      <td>0</td>\n",
       "      <td>0</td>\n",
       "      <td>0</td>\n",
       "      <td>0</td>\n",
       "      <td>0</td>\n",
       "      <td>0</td>\n",
       "      <td>0.00</td>\n",
       "    </tr>\n",
       "    <tr>\n",
       "      <th>4</th>\n",
       "      <td>118</td>\n",
       "      <td>20170212</td>\n",
       "      <td>None</td>\n",
       "      <td>NaN</td>\n",
       "      <td>transaction</td>\n",
       "      <td>68be06ca386d4c31939f3a4f0e3dd783</td>\n",
       "      <td>360</td>\n",
       "      <td>{'amount': 0.35000000000000003}</td>\n",
       "      <td>0.35</td>\n",
       "      <td>1</td>\n",
       "      <td>...</td>\n",
       "      <td>0</td>\n",
       "      <td>0</td>\n",
       "      <td>0</td>\n",
       "      <td>0</td>\n",
       "      <td>0</td>\n",
       "      <td>0</td>\n",
       "      <td>0</td>\n",
       "      <td>0</td>\n",
       "      <td>0</td>\n",
       "      <td>0.35</td>\n",
       "    </tr>\n",
       "  </tbody>\n",
       "</table>\n",
       "<p>5 rows × 44 columns</p>\n",
       "</div>"
      ],
      "text/plain": [
       "   age  became_member_on gender  income           event  \\\n",
       "0  118          20170212   None     NaN  offer received   \n",
       "1  118          20170212   None     NaN    offer viewed   \n",
       "2  118          20170212   None     NaN  offer received   \n",
       "3  118          20170212   None     NaN    offer viewed   \n",
       "4  118          20170212   None     NaN     transaction   \n",
       "\n",
       "                             person  time  \\\n",
       "0  68be06ca386d4c31939f3a4f0e3dd783   168   \n",
       "1  68be06ca386d4c31939f3a4f0e3dd783   216   \n",
       "2  68be06ca386d4c31939f3a4f0e3dd783   336   \n",
       "3  68be06ca386d4c31939f3a4f0e3dd783   348   \n",
       "4  68be06ca386d4c31939f3a4f0e3dd783   360   \n",
       "\n",
       "                                              value  \\\n",
       "0  {'offer id': '2906b810c7d4411798c6938adc9daaa5'}   \n",
       "1  {'offer id': '2906b810c7d4411798c6938adc9daaa5'}   \n",
       "2  {'offer id': '0b1e1539f2cc45b7b9fa7c272da2e1d7'}   \n",
       "3  {'offer id': '0b1e1539f2cc45b7b9fa7c272da2e1d7'}   \n",
       "4                   {'amount': 0.35000000000000003}   \n",
       "\n",
       "                     unzipped_value  total_purchases  ...  info_5a8bc_Rcvd  \\\n",
       "0  2906b810c7d4411798c6938adc9daaa5                0  ...                0   \n",
       "1  2906b810c7d4411798c6938adc9daaa5                0  ...                0   \n",
       "2  0b1e1539f2cc45b7b9fa7c272da2e1d7                0  ...                0   \n",
       "3  0b1e1539f2cc45b7b9fa7c272da2e1d7                0  ...                0   \n",
       "4                              0.35                1  ...                0   \n",
       "\n",
       "   info_5a8bc_Vwd  info_5a8bc_Cmpltd  bogo_f1942_Rcvd  bogo_f1942_Vwd  \\\n",
       "0               0                  0                0               0   \n",
       "1               0                  0                0               0   \n",
       "2               0                  0                0               0   \n",
       "3               0                  0                0               0   \n",
       "4               0                  0                0               0   \n",
       "\n",
       "   bogo_f1942_Cmpltd  disc_2906b_Rcvd  disc_2906b_Vwd  disc_2906b_Cmpltd  \\\n",
       "0                  0                1               0                  0   \n",
       "1                  0                0               1                  0   \n",
       "2                  0                0               0                  0   \n",
       "3                  0                0               0                  0   \n",
       "4                  0                0               0                  0   \n",
       "\n",
       "   total_spend  \n",
       "0         0.00  \n",
       "1         0.00  \n",
       "2         0.00  \n",
       "3         0.00  \n",
       "4         0.35  \n",
       "\n",
       "[5 rows x 44 columns]"
      ]
     },
     "execution_count": 13,
     "metadata": {},
     "output_type": "execute_result"
    }
   ],
   "source": [
    "new_dataset = create_new_features(profile_transcript)\n",
    "\n",
    "# We take a look at the new columns created\n",
    "new_columns = list(new_dataset.columns)[profile_transcript.shape[1]:]\n",
    "print(\"New features:\")\n",
    "print(new_columns)\n",
    "print(\"Number of new features: {}\".format(len(new_columns)))\n",
    "new_dataset.head()"
   ]
  },
  {
   "cell_type": "markdown",
   "metadata": {},
   "source": [
    "Now there are 35 new features. Some of the older features such as 'value', 'event' and 'unzipped_value' are not so relevant anymore since newer features have been created from them. \n",
    "\n",
    "#### Grouping the Dataset by Customer Id and Demographic Information\n",
    "Next, the dataset is grouped by the customer id and demographic information and the sum of each of the new columns is calculated for each customer. This would give a new dataset having only the features needed. Before creating this dataset, missing values are dealt with in order to avoid misplacing some customer information. "
   ]
  },
  {
   "cell_type": "code",
   "execution_count": 14,
   "metadata": {},
   "outputs": [
    {
     "name": "stdout",
     "output_type": "stream",
     "text": [
      "No. of  customers: 17000\n",
      "No. of features in customer_dataset: 39\n"
     ]
    },
    {
     "data": {
      "text/html": [
       "<div>\n",
       "<style scoped>\n",
       "    .dataframe tbody tr th:only-of-type {\n",
       "        vertical-align: middle;\n",
       "    }\n",
       "\n",
       "    .dataframe tbody tr th {\n",
       "        vertical-align: top;\n",
       "    }\n",
       "\n",
       "    .dataframe thead th {\n",
       "        text-align: right;\n",
       "    }\n",
       "</style>\n",
       "<table border=\"1\" class=\"dataframe\">\n",
       "  <thead>\n",
       "    <tr style=\"text-align: right;\">\n",
       "      <th></th>\n",
       "      <th>age</th>\n",
       "      <th>gender</th>\n",
       "      <th>became_member_on</th>\n",
       "      <th>income</th>\n",
       "      <th>total_purchases</th>\n",
       "      <th>total_offers_received</th>\n",
       "      <th>total_offers_viewed</th>\n",
       "      <th>total_offers_completed</th>\n",
       "      <th>bogo_ae264_Rcvd</th>\n",
       "      <th>bogo_ae264_Vwd</th>\n",
       "      <th>...</th>\n",
       "      <th>info_5a8bc_Rcvd</th>\n",
       "      <th>info_5a8bc_Vwd</th>\n",
       "      <th>info_5a8bc_Cmpltd</th>\n",
       "      <th>bogo_f1942_Rcvd</th>\n",
       "      <th>bogo_f1942_Vwd</th>\n",
       "      <th>bogo_f1942_Cmpltd</th>\n",
       "      <th>disc_2906b_Rcvd</th>\n",
       "      <th>disc_2906b_Vwd</th>\n",
       "      <th>disc_2906b_Cmpltd</th>\n",
       "      <th>total_spend</th>\n",
       "    </tr>\n",
       "    <tr>\n",
       "      <th>person</th>\n",
       "      <th></th>\n",
       "      <th></th>\n",
       "      <th></th>\n",
       "      <th></th>\n",
       "      <th></th>\n",
       "      <th></th>\n",
       "      <th></th>\n",
       "      <th></th>\n",
       "      <th></th>\n",
       "      <th></th>\n",
       "      <th></th>\n",
       "      <th></th>\n",
       "      <th></th>\n",
       "      <th></th>\n",
       "      <th></th>\n",
       "      <th></th>\n",
       "      <th></th>\n",
       "      <th></th>\n",
       "      <th></th>\n",
       "      <th></th>\n",
       "      <th></th>\n",
       "    </tr>\n",
       "  </thead>\n",
       "  <tbody>\n",
       "    <tr>\n",
       "      <th>0009655768c64bdeb2e877511632db8f</th>\n",
       "      <td>33</td>\n",
       "      <td>M</td>\n",
       "      <td>20170421</td>\n",
       "      <td>72000.0</td>\n",
       "      <td>8</td>\n",
       "      <td>5</td>\n",
       "      <td>4</td>\n",
       "      <td>3</td>\n",
       "      <td>0</td>\n",
       "      <td>0</td>\n",
       "      <td>...</td>\n",
       "      <td>1</td>\n",
       "      <td>1</td>\n",
       "      <td>0</td>\n",
       "      <td>1</td>\n",
       "      <td>1</td>\n",
       "      <td>1</td>\n",
       "      <td>1</td>\n",
       "      <td>0</td>\n",
       "      <td>1</td>\n",
       "      <td>127.60</td>\n",
       "    </tr>\n",
       "    <tr>\n",
       "      <th>00116118485d4dfda04fdbaba9a87b5c</th>\n",
       "      <td>118</td>\n",
       "      <td>gender_unavailable</td>\n",
       "      <td>20180425</td>\n",
       "      <td>0.0</td>\n",
       "      <td>3</td>\n",
       "      <td>2</td>\n",
       "      <td>2</td>\n",
       "      <td>0</td>\n",
       "      <td>0</td>\n",
       "      <td>0</td>\n",
       "      <td>...</td>\n",
       "      <td>0</td>\n",
       "      <td>0</td>\n",
       "      <td>0</td>\n",
       "      <td>2</td>\n",
       "      <td>2</td>\n",
       "      <td>0</td>\n",
       "      <td>0</td>\n",
       "      <td>0</td>\n",
       "      <td>0</td>\n",
       "      <td>4.09</td>\n",
       "    </tr>\n",
       "    <tr>\n",
       "      <th>0011e0d4e6b944f998e987f904e8c1e5</th>\n",
       "      <td>40</td>\n",
       "      <td>O</td>\n",
       "      <td>20180109</td>\n",
       "      <td>57000.0</td>\n",
       "      <td>5</td>\n",
       "      <td>5</td>\n",
       "      <td>5</td>\n",
       "      <td>3</td>\n",
       "      <td>0</td>\n",
       "      <td>0</td>\n",
       "      <td>...</td>\n",
       "      <td>1</td>\n",
       "      <td>1</td>\n",
       "      <td>0</td>\n",
       "      <td>0</td>\n",
       "      <td>0</td>\n",
       "      <td>0</td>\n",
       "      <td>0</td>\n",
       "      <td>0</td>\n",
       "      <td>0</td>\n",
       "      <td>79.46</td>\n",
       "    </tr>\n",
       "    <tr>\n",
       "      <th>0020c2b971eb4e9188eac86d93036a77</th>\n",
       "      <td>59</td>\n",
       "      <td>F</td>\n",
       "      <td>20160304</td>\n",
       "      <td>90000.0</td>\n",
       "      <td>8</td>\n",
       "      <td>5</td>\n",
       "      <td>3</td>\n",
       "      <td>3</td>\n",
       "      <td>1</td>\n",
       "      <td>0</td>\n",
       "      <td>...</td>\n",
       "      <td>1</td>\n",
       "      <td>1</td>\n",
       "      <td>0</td>\n",
       "      <td>0</td>\n",
       "      <td>0</td>\n",
       "      <td>0</td>\n",
       "      <td>0</td>\n",
       "      <td>0</td>\n",
       "      <td>0</td>\n",
       "      <td>196.86</td>\n",
       "    </tr>\n",
       "    <tr>\n",
       "      <th>0020ccbbb6d84e358d3414a3ff76cffd</th>\n",
       "      <td>24</td>\n",
       "      <td>F</td>\n",
       "      <td>20161111</td>\n",
       "      <td>60000.0</td>\n",
       "      <td>12</td>\n",
       "      <td>4</td>\n",
       "      <td>4</td>\n",
       "      <td>3</td>\n",
       "      <td>0</td>\n",
       "      <td>0</td>\n",
       "      <td>...</td>\n",
       "      <td>1</td>\n",
       "      <td>1</td>\n",
       "      <td>0</td>\n",
       "      <td>1</td>\n",
       "      <td>1</td>\n",
       "      <td>1</td>\n",
       "      <td>0</td>\n",
       "      <td>0</td>\n",
       "      <td>0</td>\n",
       "      <td>154.05</td>\n",
       "    </tr>\n",
       "  </tbody>\n",
       "</table>\n",
       "<p>5 rows × 39 columns</p>\n",
       "</div>"
      ],
      "text/plain": [
       "                                  age              gender  became_member_on  \\\n",
       "person                                                                        \n",
       "0009655768c64bdeb2e877511632db8f   33                   M          20170421   \n",
       "00116118485d4dfda04fdbaba9a87b5c  118  gender_unavailable          20180425   \n",
       "0011e0d4e6b944f998e987f904e8c1e5   40                   O          20180109   \n",
       "0020c2b971eb4e9188eac86d93036a77   59                   F          20160304   \n",
       "0020ccbbb6d84e358d3414a3ff76cffd   24                   F          20161111   \n",
       "\n",
       "                                   income  total_purchases  \\\n",
       "person                                                       \n",
       "0009655768c64bdeb2e877511632db8f  72000.0                8   \n",
       "00116118485d4dfda04fdbaba9a87b5c      0.0                3   \n",
       "0011e0d4e6b944f998e987f904e8c1e5  57000.0                5   \n",
       "0020c2b971eb4e9188eac86d93036a77  90000.0                8   \n",
       "0020ccbbb6d84e358d3414a3ff76cffd  60000.0               12   \n",
       "\n",
       "                                  total_offers_received  total_offers_viewed  \\\n",
       "person                                                                         \n",
       "0009655768c64bdeb2e877511632db8f                      5                    4   \n",
       "00116118485d4dfda04fdbaba9a87b5c                      2                    2   \n",
       "0011e0d4e6b944f998e987f904e8c1e5                      5                    5   \n",
       "0020c2b971eb4e9188eac86d93036a77                      5                    3   \n",
       "0020ccbbb6d84e358d3414a3ff76cffd                      4                    4   \n",
       "\n",
       "                                  total_offers_completed  bogo_ae264_Rcvd  \\\n",
       "person                                                                      \n",
       "0009655768c64bdeb2e877511632db8f                       3                0   \n",
       "00116118485d4dfda04fdbaba9a87b5c                       0                0   \n",
       "0011e0d4e6b944f998e987f904e8c1e5                       3                0   \n",
       "0020c2b971eb4e9188eac86d93036a77                       3                1   \n",
       "0020ccbbb6d84e358d3414a3ff76cffd                       3                0   \n",
       "\n",
       "                                  bogo_ae264_Vwd  ...  info_5a8bc_Rcvd  \\\n",
       "person                                            ...                    \n",
       "0009655768c64bdeb2e877511632db8f               0  ...                1   \n",
       "00116118485d4dfda04fdbaba9a87b5c               0  ...                0   \n",
       "0011e0d4e6b944f998e987f904e8c1e5               0  ...                1   \n",
       "0020c2b971eb4e9188eac86d93036a77               0  ...                1   \n",
       "0020ccbbb6d84e358d3414a3ff76cffd               0  ...                1   \n",
       "\n",
       "                                  info_5a8bc_Vwd  info_5a8bc_Cmpltd  \\\n",
       "person                                                                \n",
       "0009655768c64bdeb2e877511632db8f               1                  0   \n",
       "00116118485d4dfda04fdbaba9a87b5c               0                  0   \n",
       "0011e0d4e6b944f998e987f904e8c1e5               1                  0   \n",
       "0020c2b971eb4e9188eac86d93036a77               1                  0   \n",
       "0020ccbbb6d84e358d3414a3ff76cffd               1                  0   \n",
       "\n",
       "                                  bogo_f1942_Rcvd  bogo_f1942_Vwd  \\\n",
       "person                                                              \n",
       "0009655768c64bdeb2e877511632db8f                1               1   \n",
       "00116118485d4dfda04fdbaba9a87b5c                2               2   \n",
       "0011e0d4e6b944f998e987f904e8c1e5                0               0   \n",
       "0020c2b971eb4e9188eac86d93036a77                0               0   \n",
       "0020ccbbb6d84e358d3414a3ff76cffd                1               1   \n",
       "\n",
       "                                  bogo_f1942_Cmpltd  disc_2906b_Rcvd  \\\n",
       "person                                                                 \n",
       "0009655768c64bdeb2e877511632db8f                  1                1   \n",
       "00116118485d4dfda04fdbaba9a87b5c                  0                0   \n",
       "0011e0d4e6b944f998e987f904e8c1e5                  0                0   \n",
       "0020c2b971eb4e9188eac86d93036a77                  0                0   \n",
       "0020ccbbb6d84e358d3414a3ff76cffd                  1                0   \n",
       "\n",
       "                                  disc_2906b_Vwd  disc_2906b_Cmpltd  \\\n",
       "person                                                                \n",
       "0009655768c64bdeb2e877511632db8f               0                  1   \n",
       "00116118485d4dfda04fdbaba9a87b5c               0                  0   \n",
       "0011e0d4e6b944f998e987f904e8c1e5               0                  0   \n",
       "0020c2b971eb4e9188eac86d93036a77               0                  0   \n",
       "0020ccbbb6d84e358d3414a3ff76cffd               0                  0   \n",
       "\n",
       "                                  total_spend  \n",
       "person                                         \n",
       "0009655768c64bdeb2e877511632db8f       127.60  \n",
       "00116118485d4dfda04fdbaba9a87b5c         4.09  \n",
       "0011e0d4e6b944f998e987f904e8c1e5        79.46  \n",
       "0020c2b971eb4e9188eac86d93036a77       196.86  \n",
       "0020ccbbb6d84e358d3414a3ff76cffd       154.05  \n",
       "\n",
       "[5 rows x 39 columns]"
      ]
     },
     "execution_count": 14,
     "metadata": {},
     "output_type": "execute_result"
    }
   ],
   "source": [
    "impute_missing_vals(new_dataset)\n",
    "customer_dataset = group_by_customers(new_dataset)\n",
    "print(\"No. of  customers: {}\".format(customer_dataset.shape[0]))\n",
    "print(\"No. of features in customer_dataset: {}\".format(customer_dataset.shape[1]))\n",
    "customer_dataset.head()"
   ]
  },
  {
   "cell_type": "markdown",
   "metadata": {},
   "source": [
    "From the dataset above, we note the following: \n",
    "- The contains information of every customers demographic information as well as the number of purchases made, offers received, offers viewed and offers completed.\n",
    "- It also shows the number of times a customer received, viewed and completed each of the offers. Offer features have been renamed to be in the format `offertype_offerid[:5]_event`. For example, a bogo offer with id '2906b810c7d4411798c6938adc9daaa5' is renamed as 'bogo_2906b_received'.\n",
    "\n",
    "Since Informational offers don't have any form of completion, we delete all features representing completion of informational offers. "
   ]
  },
  {
   "cell_type": "code",
   "execution_count": 15,
   "metadata": {},
   "outputs": [
    {
     "name": "stdout",
     "output_type": "stream",
     "text": [
      "Features removed: ['info_3f207_Cmpltd', 'info_5a8bc_Cmpltd']\n",
      "Number of Features left: 37\n",
      "Features left: Index(['age', 'gender', 'became_member_on', 'income', 'total_purchases',\n",
      "       'total_offers_received', 'total_offers_viewed',\n",
      "       'total_offers_completed', 'bogo_ae264_Rcvd', 'bogo_ae264_Vwd',\n",
      "       'bogo_ae264_Cmpltd', 'bogo_4d5c5_Rcvd', 'bogo_4d5c5_Vwd',\n",
      "       'bogo_4d5c5_Cmpltd', 'info_3f207_Rcvd', 'info_3f207_Vwd',\n",
      "       'bogo_9b98b_Rcvd', 'bogo_9b98b_Vwd', 'bogo_9b98b_Cmpltd',\n",
      "       'disc_0b1e1_Rcvd', 'disc_0b1e1_Vwd', 'disc_0b1e1_Cmpltd',\n",
      "       'disc_2298d_Rcvd', 'disc_2298d_Vwd', 'disc_2298d_Cmpltd',\n",
      "       'disc_fafdc_Rcvd', 'disc_fafdc_Vwd', 'disc_fafdc_Cmpltd',\n",
      "       'info_5a8bc_Rcvd', 'info_5a8bc_Vwd', 'bogo_f1942_Rcvd',\n",
      "       'bogo_f1942_Vwd', 'bogo_f1942_Cmpltd', 'disc_2906b_Rcvd',\n",
      "       'disc_2906b_Vwd', 'disc_2906b_Cmpltd', 'total_spend'],\n",
      "      dtype='object')\n"
     ]
    }
   ],
   "source": [
    "info_complt_cols = [col for col in new_columns if col[:4] == \"info\" and col[-6:] == \"Cmpltd\"]\n",
    "customer_dataset.drop(info_complt_cols, axis=1, inplace=True)\n",
    "print(\"Features removed: {}\".format(info_complt_cols))\n",
    "print(\"Number of Features left: {}\".format(customer_dataset.shape[1]))\n",
    "print(\"Features left: {}\".format(customer_dataset.columns))"
   ]
  },
  {
   "cell_type": "markdown",
   "metadata": {},
   "source": [
    "### Data Visualizations\n",
    "We take a look at characteristics and relationships of some of the features. First we examine the distribution of the 'gender' and 'age' features. "
   ]
  },
  {
   "cell_type": "code",
   "execution_count": 16,
   "metadata": {},
   "outputs": [
    {
     "data": {
      "image/png": "[encoded data removed]",
      "text/plain": [
       "<Figure size 432x288 with 1 Axes>"
      ]
     },
     "metadata": {
      "needs_background": "light"
     },
     "output_type": "display_data"
    },
    {
     "data": {
      "text/plain": [
       "<matplotlib.axes._subplots.AxesSubplot at 0x2bd12e09d30>"
      ]
     },
     "execution_count": 16,
     "metadata": {},
     "output_type": "execute_result"
    },
    {
     "data": {
      "image/png": "[encoded data removed]",
      "text/plain": [
       "<Figure size 432x288 with 1 Axes>"
      ]
     },
     "metadata": {
      "needs_background": "light"
     },
     "output_type": "display_data"
    }
   ],
   "source": [
    "import matplotlib.pyplot as plt\n",
    "import seaborn as sns\n",
    "\n",
    "# Create a histogram to show the distribution of the 'age' feature\n",
    "plt.hist(x= customer_dataset['age'], bins=8)\n",
    "plt.title(\"Customer Age Distribution\")\n",
    "plt.show()\n",
    "\n",
    "# Create a count plot to show the distribution of the 'gender' feature\n",
    "sns.countplot(x='gender', data=customer_dataset)"
   ]
  },
  {
   "cell_type": "markdown",
   "metadata": {},
   "source": [
    "From the above, we can deduce that most of the customers are within the ages 40 to 60 and most are also male. Then we examine the distribution of customers income, total_purchases, total_offers_received, total_offers_viewed,\n",
    "total_offers_completed and total_spend."
   ]
  },
  {
   "cell_type": "code",
   "execution_count": 17,
   "metadata": {},
   "outputs": [
    {
     "data": {
      "image/png": "[encoded data removed]",
      "text/plain": [
       "<Figure size 432x288 with 6 Axes>"
      ]
     },
     "metadata": {
      "needs_background": "light"
     },
     "output_type": "display_data"
    }
   ],
   "source": [
    "customer_dataset.hist(column= ['income',  'total_purchases', 'total_offers_received', \n",
    "                               'total_offers_viewed', 'total_offers_completed', 'total_spend'], bins=7, linewidth=1.0, \n",
    "                      xlabelsize=8, ylabelsize=8, grid=False) \n",
    "plt.tight_layout(rect=(0, 0, 1.2, 1.2))"
   ]
  },
  {
   "cell_type": "markdown",
   "metadata": {},
   "source": [
    "The following observations are made from the histograms:\n",
    "\n",
    "- Most customers earn between 50000 and 75000\n",
    "- Most customers received between 4 and 5 offers\n",
    "- Most viewed between 3 and 4 offers\n",
    "- Most didn't complete offers\n",
    "- Most customers made between 5 to 10 purchases\n",
    "\n",
    "Next we examine the relationship between the 'total_purchases' feature and the 'gender', 'age' and 'income' feature."
   ]
  },
  {
   "cell_type": "code",
   "execution_count": 18,
   "metadata": {},
   "outputs": [
    {
     "data": {
      "text/plain": [
       "<matplotlib.axes._subplots.AxesSubplot at 0x2bd12f86b38>"
      ]
     },
     "execution_count": 18,
     "metadata": {},
     "output_type": "execute_result"
    },
    {
     "data": {
      "image/png": "[encoded data removed]",
      "text/plain": [
       "<Figure size 432x288 with 1 Axes>"
      ]
     },
     "metadata": {
      "needs_background": "light"
     },
     "output_type": "display_data"
    }
   ],
   "source": [
    "# We create a swarm plot to visualize how each gender made purchases\n",
    "sns.swarmplot(x=customer_dataset['gender'],\n",
    "              y=customer_dataset['total_purchases'])"
   ]
  },
  {
   "cell_type": "markdown",
   "metadata": {},
   "source": [
    "From the swarm plot above, the highest number of total purchases were made by the male gender."
   ]
  },
  {
   "cell_type": "code",
   "execution_count": 19,
   "metadata": {},
   "outputs": [
    {
     "data": {
      "text/plain": [
       "<matplotlib.axes._subplots.AxesSubplot at 0x2bd12f987f0>"
      ]
     },
     "execution_count": 19,
     "metadata": {},
     "output_type": "execute_result"
    },
    {
     "data": {
      "image/png": "[encoded data removed]",
      "text/plain": [
       "<Figure size 432x288 with 1 Axes>"
      ]
     },
     "metadata": {
      "needs_background": "light"
     },
     "output_type": "display_data"
    }
   ],
   "source": [
    "# Create scatter plot showing relationship between the 'age' and 'total_purchases' features.\n",
    "\n",
    "sns.scatterplot(x='age', y='total_purchases', \n",
    "                data=customer_dataset)"
   ]
  },
  {
   "cell_type": "code",
   "execution_count": 20,
   "metadata": {},
   "outputs": [
    {
     "data": {
      "text/plain": [
       "<matplotlib.axes._subplots.AxesSubplot at 0x2bd12fe8588>"
      ]
     },
     "execution_count": 20,
     "metadata": {},
     "output_type": "execute_result"
    },
    {
     "data": {
      "image/png": "[encoded data removed]",
      "text/plain": [
       "<Figure size 432x288 with 1 Axes>"
      ]
     },
     "metadata": {
      "needs_background": "light"
     },
     "output_type": "display_data"
    }
   ],
   "source": [
    "# Create a scatter plot showing the relationship between 'income' and 'total_purchases'\n",
    "sns.scatterplot(x='income', y='total_purchases', \n",
    "                data=customer_dataset)"
   ]
  },
  {
   "cell_type": "markdown",
   "metadata": {},
   "source": [
    "From the scatterplot above, the highest number of purchases were made by those between 25-80 years of age and those earning between 30,000 to 60,000."
   ]
  },
  {
   "cell_type": "markdown",
   "metadata": {},
   "source": [
    "### Dealing with Categorical Features and Normalizing Numerical Features\n",
    "The only categorical feature left is the 'gender' feature. We deal with this using One Hot encoding and Column Transformer. Then numerical features are also normalized in order to consistently compare the values of different features."
   ]
  },
  {
   "cell_type": "code",
   "execution_count": 21,
   "metadata": {},
   "outputs": [
    {
     "name": "stdout",
     "output_type": "stream",
     "text": [
      "Number of Features: 40\n"
     ]
    },
    {
     "name": "stderr",
     "output_type": "stream",
     "text": [
      "C:\\Users\\user\\Anaconda3\\lib\\site-packages\\sklearn\\preprocessing\\data.py:334: DataConversionWarning: Data with input dtype int64, float64 were all converted to float64 by MinMaxScaler.\n",
      "  return self.partial_fit(X, y)\n"
     ]
    },
    {
     "data": {
      "text/html": [
       "<div>\n",
       "<style scoped>\n",
       "    .dataframe tbody tr th:only-of-type {\n",
       "        vertical-align: middle;\n",
       "    }\n",
       "\n",
       "    .dataframe tbody tr th {\n",
       "        vertical-align: top;\n",
       "    }\n",
       "\n",
       "    .dataframe thead th {\n",
       "        text-align: right;\n",
       "    }\n",
       "</style>\n",
       "<table border=\"1\" class=\"dataframe\">\n",
       "  <thead>\n",
       "    <tr style=\"text-align: right;\">\n",
       "      <th></th>\n",
       "      <th>gender_F</th>\n",
       "      <th>gender_M</th>\n",
       "      <th>gender_O</th>\n",
       "      <th>gender_unavailable</th>\n",
       "      <th>age</th>\n",
       "      <th>became_member_on</th>\n",
       "      <th>income</th>\n",
       "      <th>total_purchases</th>\n",
       "      <th>total_offers_received</th>\n",
       "      <th>total_offers_viewed</th>\n",
       "      <th>...</th>\n",
       "      <th>disc_fafdc_Cmpltd</th>\n",
       "      <th>info_5a8bc_Rcvd</th>\n",
       "      <th>info_5a8bc_Vwd</th>\n",
       "      <th>bogo_f1942_Rcvd</th>\n",
       "      <th>bogo_f1942_Vwd</th>\n",
       "      <th>bogo_f1942_Cmpltd</th>\n",
       "      <th>disc_2906b_Rcvd</th>\n",
       "      <th>disc_2906b_Vwd</th>\n",
       "      <th>disc_2906b_Cmpltd</th>\n",
       "      <th>total_spend</th>\n",
       "    </tr>\n",
       "    <tr>\n",
       "      <th>person</th>\n",
       "      <th></th>\n",
       "      <th></th>\n",
       "      <th></th>\n",
       "      <th></th>\n",
       "      <th></th>\n",
       "      <th></th>\n",
       "      <th></th>\n",
       "      <th></th>\n",
       "      <th></th>\n",
       "      <th></th>\n",
       "      <th></th>\n",
       "      <th></th>\n",
       "      <th></th>\n",
       "      <th></th>\n",
       "      <th></th>\n",
       "      <th></th>\n",
       "      <th></th>\n",
       "      <th></th>\n",
       "      <th></th>\n",
       "      <th></th>\n",
       "      <th></th>\n",
       "    </tr>\n",
       "  </thead>\n",
       "  <tbody>\n",
       "    <tr>\n",
       "      <th>0009655768c64bdeb2e877511632db8f</th>\n",
       "      <td>0.0</td>\n",
       "      <td>1.0</td>\n",
       "      <td>0.0</td>\n",
       "      <td>0.0</td>\n",
       "      <td>0.15</td>\n",
       "      <td>0.793888</td>\n",
       "      <td>0.600</td>\n",
       "      <td>0.222222</td>\n",
       "      <td>0.833333</td>\n",
       "      <td>0.666667</td>\n",
       "      <td>...</td>\n",
       "      <td>0.25</td>\n",
       "      <td>0.2</td>\n",
       "      <td>0.2</td>\n",
       "      <td>0.2</td>\n",
       "      <td>0.2</td>\n",
       "      <td>0.333333</td>\n",
       "      <td>0.25</td>\n",
       "      <td>0.0</td>\n",
       "      <td>0.25</td>\n",
       "      <td>0.079319</td>\n",
       "    </tr>\n",
       "    <tr>\n",
       "      <th>00116118485d4dfda04fdbaba9a87b5c</th>\n",
       "      <td>0.0</td>\n",
       "      <td>0.0</td>\n",
       "      <td>0.0</td>\n",
       "      <td>1.0</td>\n",
       "      <td>1.00</td>\n",
       "      <td>0.993980</td>\n",
       "      <td>0.000</td>\n",
       "      <td>0.083333</td>\n",
       "      <td>0.333333</td>\n",
       "      <td>0.333333</td>\n",
       "      <td>...</td>\n",
       "      <td>0.00</td>\n",
       "      <td>0.0</td>\n",
       "      <td>0.0</td>\n",
       "      <td>0.4</td>\n",
       "      <td>0.4</td>\n",
       "      <td>0.000000</td>\n",
       "      <td>0.00</td>\n",
       "      <td>0.0</td>\n",
       "      <td>0.00</td>\n",
       "      <td>0.002542</td>\n",
       "    </tr>\n",
       "    <tr>\n",
       "      <th>0011e0d4e6b944f998e987f904e8c1e5</th>\n",
       "      <td>0.0</td>\n",
       "      <td>0.0</td>\n",
       "      <td>1.0</td>\n",
       "      <td>0.0</td>\n",
       "      <td>0.22</td>\n",
       "      <td>0.987659</td>\n",
       "      <td>0.475</td>\n",
       "      <td>0.138889</td>\n",
       "      <td>0.833333</td>\n",
       "      <td>0.833333</td>\n",
       "      <td>...</td>\n",
       "      <td>0.00</td>\n",
       "      <td>0.2</td>\n",
       "      <td>0.2</td>\n",
       "      <td>0.0</td>\n",
       "      <td>0.0</td>\n",
       "      <td>0.000000</td>\n",
       "      <td>0.00</td>\n",
       "      <td>0.0</td>\n",
       "      <td>0.00</td>\n",
       "      <td>0.049394</td>\n",
       "    </tr>\n",
       "    <tr>\n",
       "      <th>0020c2b971eb4e9188eac86d93036a77</th>\n",
       "      <td>1.0</td>\n",
       "      <td>0.0</td>\n",
       "      <td>0.0</td>\n",
       "      <td>0.0</td>\n",
       "      <td>0.41</td>\n",
       "      <td>0.591535</td>\n",
       "      <td>0.750</td>\n",
       "      <td>0.222222</td>\n",
       "      <td>0.833333</td>\n",
       "      <td>0.500000</td>\n",
       "      <td>...</td>\n",
       "      <td>0.50</td>\n",
       "      <td>0.2</td>\n",
       "      <td>0.2</td>\n",
       "      <td>0.0</td>\n",
       "      <td>0.0</td>\n",
       "      <td>0.000000</td>\n",
       "      <td>0.00</td>\n",
       "      <td>0.0</td>\n",
       "      <td>0.00</td>\n",
       "      <td>0.122373</td>\n",
       "    </tr>\n",
       "    <tr>\n",
       "      <th>0020ccbbb6d84e358d3414a3ff76cffd</th>\n",
       "      <td>1.0</td>\n",
       "      <td>0.0</td>\n",
       "      <td>0.0</td>\n",
       "      <td>0.0</td>\n",
       "      <td>0.06</td>\n",
       "      <td>0.607676</td>\n",
       "      <td>0.500</td>\n",
       "      <td>0.333333</td>\n",
       "      <td>0.666667</td>\n",
       "      <td>0.666667</td>\n",
       "      <td>...</td>\n",
       "      <td>0.00</td>\n",
       "      <td>0.2</td>\n",
       "      <td>0.2</td>\n",
       "      <td>0.2</td>\n",
       "      <td>0.2</td>\n",
       "      <td>0.333333</td>\n",
       "      <td>0.00</td>\n",
       "      <td>0.0</td>\n",
       "      <td>0.00</td>\n",
       "      <td>0.095761</td>\n",
       "    </tr>\n",
       "  </tbody>\n",
       "</table>\n",
       "<p>5 rows × 40 columns</p>\n",
       "</div>"
      ],
      "text/plain": [
       "                                  gender_F  gender_M  gender_O  \\\n",
       "person                                                           \n",
       "0009655768c64bdeb2e877511632db8f       0.0       1.0       0.0   \n",
       "00116118485d4dfda04fdbaba9a87b5c       0.0       0.0       0.0   \n",
       "0011e0d4e6b944f998e987f904e8c1e5       0.0       0.0       1.0   \n",
       "0020c2b971eb4e9188eac86d93036a77       1.0       0.0       0.0   \n",
       "0020ccbbb6d84e358d3414a3ff76cffd       1.0       0.0       0.0   \n",
       "\n",
       "                                  gender_unavailable   age  became_member_on  \\\n",
       "person                                                                         \n",
       "0009655768c64bdeb2e877511632db8f                 0.0  0.15          0.793888   \n",
       "00116118485d4dfda04fdbaba9a87b5c                 1.0  1.00          0.993980   \n",
       "0011e0d4e6b944f998e987f904e8c1e5                 0.0  0.22          0.987659   \n",
       "0020c2b971eb4e9188eac86d93036a77                 0.0  0.41          0.591535   \n",
       "0020ccbbb6d84e358d3414a3ff76cffd                 0.0  0.06          0.607676   \n",
       "\n",
       "                                  income  total_purchases  \\\n",
       "person                                                      \n",
       "0009655768c64bdeb2e877511632db8f   0.600         0.222222   \n",
       "00116118485d4dfda04fdbaba9a87b5c   0.000         0.083333   \n",
       "0011e0d4e6b944f998e987f904e8c1e5   0.475         0.138889   \n",
       "0020c2b971eb4e9188eac86d93036a77   0.750         0.222222   \n",
       "0020ccbbb6d84e358d3414a3ff76cffd   0.500         0.333333   \n",
       "\n",
       "                                  total_offers_received  total_offers_viewed  \\\n",
       "person                                                                         \n",
       "0009655768c64bdeb2e877511632db8f               0.833333             0.666667   \n",
       "00116118485d4dfda04fdbaba9a87b5c               0.333333             0.333333   \n",
       "0011e0d4e6b944f998e987f904e8c1e5               0.833333             0.833333   \n",
       "0020c2b971eb4e9188eac86d93036a77               0.833333             0.500000   \n",
       "0020ccbbb6d84e358d3414a3ff76cffd               0.666667             0.666667   \n",
       "\n",
       "                                  ...  disc_fafdc_Cmpltd  info_5a8bc_Rcvd  \\\n",
       "person                            ...                                       \n",
       "0009655768c64bdeb2e877511632db8f  ...               0.25              0.2   \n",
       "00116118485d4dfda04fdbaba9a87b5c  ...               0.00              0.0   \n",
       "0011e0d4e6b944f998e987f904e8c1e5  ...               0.00              0.2   \n",
       "0020c2b971eb4e9188eac86d93036a77  ...               0.50              0.2   \n",
       "0020ccbbb6d84e358d3414a3ff76cffd  ...               0.00              0.2   \n",
       "\n",
       "                                  info_5a8bc_Vwd  bogo_f1942_Rcvd  \\\n",
       "person                                                              \n",
       "0009655768c64bdeb2e877511632db8f             0.2              0.2   \n",
       "00116118485d4dfda04fdbaba9a87b5c             0.0              0.4   \n",
       "0011e0d4e6b944f998e987f904e8c1e5             0.2              0.0   \n",
       "0020c2b971eb4e9188eac86d93036a77             0.2              0.0   \n",
       "0020ccbbb6d84e358d3414a3ff76cffd             0.2              0.2   \n",
       "\n",
       "                                  bogo_f1942_Vwd  bogo_f1942_Cmpltd  \\\n",
       "person                                                                \n",
       "0009655768c64bdeb2e877511632db8f             0.2           0.333333   \n",
       "00116118485d4dfda04fdbaba9a87b5c             0.4           0.000000   \n",
       "0011e0d4e6b944f998e987f904e8c1e5             0.0           0.000000   \n",
       "0020c2b971eb4e9188eac86d93036a77             0.0           0.000000   \n",
       "0020ccbbb6d84e358d3414a3ff76cffd             0.2           0.333333   \n",
       "\n",
       "                                  disc_2906b_Rcvd  disc_2906b_Vwd  \\\n",
       "person                                                              \n",
       "0009655768c64bdeb2e877511632db8f             0.25             0.0   \n",
       "00116118485d4dfda04fdbaba9a87b5c             0.00             0.0   \n",
       "0011e0d4e6b944f998e987f904e8c1e5             0.00             0.0   \n",
       "0020c2b971eb4e9188eac86d93036a77             0.00             0.0   \n",
       "0020ccbbb6d84e358d3414a3ff76cffd             0.00             0.0   \n",
       "\n",
       "                                  disc_2906b_Cmpltd  total_spend  \n",
       "person                                                            \n",
       "0009655768c64bdeb2e877511632db8f               0.25     0.079319  \n",
       "00116118485d4dfda04fdbaba9a87b5c               0.00     0.002542  \n",
       "0011e0d4e6b944f998e987f904e8c1e5               0.00     0.049394  \n",
       "0020c2b971eb4e9188eac86d93036a77               0.00     0.122373  \n",
       "0020ccbbb6d84e358d3414a3ff76cffd               0.00     0.095761  \n",
       "\n",
       "[5 rows x 40 columns]"
      ]
     },
     "execution_count": 21,
     "metadata": {},
     "output_type": "execute_result"
    }
   ],
   "source": [
    "from sklearn.preprocessing import OneHotEncoder\n",
    "from sklearn.compose import ColumnTransformer\n",
    "from sklearn.preprocessing import MinMaxScaler\n",
    "from sklearn.pipeline import Pipeline\n",
    "\n",
    "# Select the categorical and numerical features\n",
    "categorical_cols = [col for  col in customer_dataset.columns\n",
    "                   if customer_dataset[col].dtype == 'object']\n",
    "\n",
    "numerical_cols = [col for col in customer_dataset.columns\n",
    "                 if customer_dataset[col].dtype in ['int64', 'float64']]\n",
    "\n",
    "# Create transformers for the categorical and numerical features\n",
    "numerical_transformer = MinMaxScaler()\n",
    "categorical_transformer = Pipeline(steps=[\n",
    "    ('onehot', OneHotEncoder(sparse=False)),\n",
    "    ('normalize', MinMaxScaler())\n",
    "])\n",
    "\n",
    "# Perform a Column Transformer on the features\n",
    "preprocessor = ColumnTransformer(transformers=[\n",
    "    ('cat', categorical_transformer, categorical_cols),\n",
    "    ('num', numerical_transformer, numerical_cols)\n",
    "    ])\n",
    "\n",
    "# Create a list of the new_columns\n",
    "gender_cols = ['gender_{}'.format(i) for i in ['F','M','O','unavailable']]\n",
    "older_cols = list(customer_dataset.columns)\n",
    "older_cols.remove('gender')\n",
    "col_names = gender_cols + older_cols\n",
    "\n",
    "# Transform the dataset\n",
    "scaled_dataset = pd.DataFrame(preprocessor.fit_transform(customer_dataset), index=customer_dataset.index, \n",
    "                              columns=col_names)        \n",
    "print(\"Number of Features: {}\".format(scaled_dataset.shape[1]))\n",
    "scaled_dataset.head()"
   ]
  },
  {
   "cell_type": "markdown",
   "metadata": {},
   "source": [
    "The final dataset has 40 features which means each data point (i.e each customer) has 40 features."
   ]
  },
  {
   "cell_type": "markdown",
   "metadata": {},
   "source": [
    "## Data Modeling \n",
    "\n",
    "### Dimensionality Reduction Using Principal Component Analysis (PCA)\n",
    "The final dataset has 39 features which means the data is 39-dimensional. To perform customer segmentation, clusters would have to be created from the data and clustering algorithms rely on finding clusters in n-dimensional feature space.\n",
    "\n",
    "Since the dimension of the data is very high, we would need to figure out which features are most important in order to avoid noisy clusters. In order words, we need to find features that help separate and group the data (features causing the most variance). \n",
    "\n",
    "Using PCA, dimensionality reduction is performed to find smaller set of features that help separate the data."
   ]
  },
  {
   "cell_type": "code",
   "execution_count": 22,
   "metadata": {},
   "outputs": [
    {
     "data": {
      "text/plain": [
       "PCA(copy=True, iterated_power='auto', n_components=30, random_state=1,\n",
       "  svd_solver='auto', tol=0.0, whiten=False)"
      ]
     },
     "execution_count": 22,
     "metadata": {},
     "output_type": "execute_result"
    }
   ],
   "source": [
    "from sklearn.decomposition import PCA\n",
    "\n",
    "# We keep only 38 components\n",
    "pca = PCA(n_components=30, random_state=1)\n",
    "pca.fit(scaled_dataset)"
   ]
  },
  {
   "cell_type": "markdown",
   "metadata": {},
   "source": [
    "We take a look at the model attributes"
   ]
  },
  {
   "cell_type": "code",
   "execution_count": 23,
   "metadata": {},
   "outputs": [
    {
     "name": "stdout",
     "output_type": "stream",
     "text": [
      "(30, 40)\n"
     ]
    },
    {
     "data": {
      "text/plain": [
       "array([[ 6.74098476e-01, -7.26925324e-01,  3.52589860e-03, ...,\n",
       "         7.94627712e-03,  1.18553370e-02,  1.77719910e-02],\n",
       "       [-3.36341879e-01, -2.83968030e-01,  5.16431759e-03, ...,\n",
       "         2.50417795e-03, -5.19679916e-02, -5.87768516e-02],\n",
       "       [-1.51796051e-01, -3.19080212e-02,  1.06713547e-02, ...,\n",
       "         7.47537538e-02,  8.75125193e-02,  8.38332553e-02],\n",
       "       ...,\n",
       "       [ 3.18276976e-03,  1.15481931e-04,  5.13472517e-03, ...,\n",
       "         4.37911143e-02,  2.15874724e-01,  4.57507981e-02],\n",
       "       [-8.36262928e-04,  2.18656375e-04, -4.23981841e-03, ...,\n",
       "        -1.01455651e-01,  1.39563512e-01,  7.13632748e-02],\n",
       "       [ 1.29999560e-02,  1.59744619e-02,  2.04731384e-02, ...,\n",
       "        -1.51737707e-02,  5.82781813e-03,  9.31478230e-01]])"
      ]
     },
     "execution_count": 23,
     "metadata": {},
     "output_type": "execute_result"
    }
   ],
   "source": [
    "# The principal component is a linear combination of the original 40 features.\n",
    "# Hence the array of shape (38, 40)\n",
    "princip_comp = pca.components_\n",
    "print(princip_comp.shape)\n",
    "princip_comp"
   ]
  },
  {
   "cell_type": "code",
   "execution_count": 24,
   "metadata": {},
   "outputs": [
    {
     "name": "stdout",
     "output_type": "stream",
     "text": [
      "(30,)\n"
     ]
    },
    {
     "data": {
      "text/plain": [
       "array([0.42649829, 0.27132498, 0.11665626, 0.0675101 , 0.06477705,\n",
       "       0.05913352, 0.05646409, 0.05291928, 0.05098193, 0.04882952,\n",
       "       0.04686918, 0.04303642, 0.03727256, 0.03436364, 0.02443512,\n",
       "       0.02120638, 0.01791433, 0.01186253, 0.00923067, 0.00865236,\n",
       "       0.00742983, 0.00623409, 0.00614536, 0.00573929, 0.00531868,\n",
       "       0.00516698, 0.00508687, 0.00473511, 0.00416256, 0.00316683])"
      ]
     },
     "execution_count": 24,
     "metadata": {},
     "output_type": "execute_result"
    }
   ],
   "source": [
    "# The amount of variance explained by each of the components\n",
    "\n",
    "explained_var = pca.explained_variance_\n",
    "print(explained_var.shape)\n",
    "explained_var"
   ]
  },
  {
   "cell_type": "code",
   "execution_count": 25,
   "metadata": {},
   "outputs": [
    {
     "name": "stdout",
     "output_type": "stream",
     "text": [
      "(30,)\n"
     ]
    },
    {
     "data": {
      "text/plain": [
       "array([85.14719281, 67.91357216, 44.53133544, 33.87630729, 33.18350592,\n",
       "       31.70505802, 30.9811715 , 29.99291194, 29.43878117, 28.81063993,\n",
       "       28.22639319, 27.04766409, 25.17133822, 24.16914428, 20.3806932 ,\n",
       "       18.98650406, 17.45066298, 14.20039029, 12.52646068, 12.12771391,\n",
       "       11.23831084, 10.29433062, 10.22080914,  9.87735532,  9.50853645,\n",
       "        9.37194955,  9.29901909,  8.97174369,  8.41185449,  7.33709038])"
      ]
     },
     "execution_count": 25,
     "metadata": {},
     "output_type": "execute_result"
    }
   ],
   "source": [
    "singular_vals = pca.singular_values_\n",
    "print(singular_vals.shape)\n",
    "singular_vals"
   ]
  },
  {
   "cell_type": "markdown",
   "metadata": {},
   "source": [
    "The PCA model creates 38 principal components as instructed to. But in order to reduce the dimensionality, the top n principal components that account for at least 80% variance are selected. From the singular_values_ attribute, we can get an approximation of the data variance that is covered in the first top n-principal components by calculating the **explained variance** of these components. The top principal components are the  largest values singular_values_ attribute. For instamce, the top 5 components include:"
   ]
  },
  {
   "cell_type": "code",
   "execution_count": 26,
   "metadata": {},
   "outputs": [
    {
     "data": {
      "text/plain": [
       "array([85.14719281, 67.91357216, 44.53133544, 33.87630729, 33.18350592])"
      ]
     },
     "execution_count": 26,
     "metadata": {},
     "output_type": "execute_result"
    }
   ],
   "source": [
    "singular_vals[:5]"
   ]
  },
  {
   "cell_type": "markdown",
   "metadata": {},
   "source": [
    "To calculate the explained variance, we calculate: \n",
    "**The sum of squared s values for all top n components over the sum of squared s values for all components**"
   ]
  },
  {
   "cell_type": "code",
   "execution_count": 27,
   "metadata": {},
   "outputs": [
    {
     "data": {
      "text/plain": [
       "[0.0,\n",
       " 0.2800155120088935,\n",
       " 0.4581526910158691,\n",
       " 0.5347428304746349,\n",
       " 0.5790662796631101,\n",
       " 0.6215953567910227,\n",
       " 0.6604192001820084,\n",
       " 0.697490438515863,\n",
       " 0.732234348124183,\n",
       " 0.7657063026176525,\n",
       " 0.7977651003300844,\n",
       " 0.8285368503326039,\n",
       " 0.8567922171799425,\n",
       " 0.8812633476353549,\n",
       " 0.903824639829288]"
      ]
     },
     "execution_count": 27,
     "metadata": {},
     "output_type": "execute_result"
    }
   ],
   "source": [
    "# Calculate the explained variance for the top n principal components\n",
    "# you may assume you have access to the global var N_COMPONENTS\n",
    "def explained_variance(s, n_top_components):\n",
    "    '''Calculates the approx. data variance that n_top_components captures.\n",
    "       :param s: A dataframe of singular values for top components; \n",
    "           the top value is in the last row.\n",
    "       :param n_top_components: An integer, the number of top components to use.\n",
    "       :return: The expected data variance covered by the n_top_components.'''\n",
    "    \n",
    "    # calculate approx variance\n",
    "    exp_variance = np.square(s[:n_top_components]).sum() / np.square(s).sum()\n",
    "    \n",
    "    return exp_variance\n",
    "\n",
    "exp_var_list = [explained_variance(singular_vals, i) for i in list(range(15))]\n",
    "exp_var_list"
   ]
  },
  {
   "cell_type": "markdown",
   "metadata": {},
   "source": [
    "From the result above, we see that there is 80% variance from the top 11 components. I decide to use the top 11 components."
   ]
  },
  {
   "cell_type": "markdown",
   "metadata": {},
   "source": [
    "### Feature Engineering and Data Transformation\n",
    "Now we transform our scaled_dataset using the PCA model created and then take the largest n components to reduce the dimensionality of our data."
   ]
  },
  {
   "cell_type": "code",
   "execution_count": 28,
   "metadata": {},
   "outputs": [
    {
     "name": "stdout",
     "output_type": "stream",
     "text": [
      "(17000, 30)\n"
     ]
    },
    {
     "data": {
      "text/plain": [
       "array([[-6.15340395e-01, -3.29664185e-01,  1.26927246e-01, ...,\n",
       "         3.32286539e-02, -2.15966796e-02, -7.96986876e-03],\n",
       "       [ 1.51922642e-01,  1.36550092e+00, -2.72429357e-01, ...,\n",
       "        -1.50041558e-02, -2.29396381e-02,  4.05619951e-03],\n",
       "       [ 1.27473104e-01,  5.08064681e-02,  2.23052213e-01, ...,\n",
       "        -3.64193691e-02,  1.20338689e-03, -4.29795171e-03],\n",
       "       ...,\n",
       "       [-6.43508386e-01,  9.04364633e-02, -5.17068143e-01, ...,\n",
       "        -6.12977102e-02,  1.45054943e-01, -1.51816832e-02],\n",
       "       [-6.22721371e-01, -2.16857788e-01,  1.50982147e-01, ...,\n",
       "        -6.52001644e-02,  1.08368416e-02, -1.51214321e-02],\n",
       "       [ 8.52650203e-01, -5.13640175e-01,  7.33543404e-01, ...,\n",
       "         3.44938759e-03, -8.34764690e-03, -1.19176463e-02]])"
      ]
     },
     "execution_count": 28,
     "metadata": {},
     "output_type": "execute_result"
    }
   ],
   "source": [
    "transformed_data = pca.transform(scaled_dataset)\n",
    "print(transformed_data.shape)\n",
    "transformed_data"
   ]
  },
  {
   "cell_type": "markdown",
   "metadata": {},
   "source": [
    "For each of our data points, we get the top n component values from the list of component data points, returned by our predictor above, and put those into a new DataFrame."
   ]
  },
  {
   "cell_type": "code",
   "execution_count": 29,
   "metadata": {},
   "outputs": [
    {
     "data": {
      "text/html": [
       "<div>\n",
       "<style scoped>\n",
       "    .dataframe tbody tr th:only-of-type {\n",
       "        vertical-align: middle;\n",
       "    }\n",
       "\n",
       "    .dataframe tbody tr th {\n",
       "        vertical-align: top;\n",
       "    }\n",
       "\n",
       "    .dataframe thead th {\n",
       "        text-align: right;\n",
       "    }\n",
       "</style>\n",
       "<table border=\"1\" class=\"dataframe\">\n",
       "  <thead>\n",
       "    <tr style=\"text-align: right;\">\n",
       "      <th></th>\n",
       "      <th>c_1</th>\n",
       "      <th>c_2</th>\n",
       "      <th>c_3</th>\n",
       "      <th>c_4</th>\n",
       "      <th>c_5</th>\n",
       "      <th>c_6</th>\n",
       "      <th>c_7</th>\n",
       "      <th>c_8</th>\n",
       "      <th>c_9</th>\n",
       "      <th>c_10</th>\n",
       "      <th>c_11</th>\n",
       "      <th>c_12</th>\n",
       "    </tr>\n",
       "    <tr>\n",
       "      <th>person</th>\n",
       "      <th></th>\n",
       "      <th></th>\n",
       "      <th></th>\n",
       "      <th></th>\n",
       "      <th></th>\n",
       "      <th></th>\n",
       "      <th></th>\n",
       "      <th></th>\n",
       "      <th></th>\n",
       "      <th></th>\n",
       "      <th></th>\n",
       "      <th></th>\n",
       "    </tr>\n",
       "  </thead>\n",
       "  <tbody>\n",
       "    <tr>\n",
       "      <th>0009655768c64bdeb2e877511632db8f</th>\n",
       "      <td>-0.615340</td>\n",
       "      <td>-0.329664</td>\n",
       "      <td>0.126927</td>\n",
       "      <td>-0.132461</td>\n",
       "      <td>0.069794</td>\n",
       "      <td>0.094561</td>\n",
       "      <td>-0.400128</td>\n",
       "      <td>0.011124</td>\n",
       "      <td>0.299893</td>\n",
       "      <td>0.134199</td>\n",
       "      <td>0.146107</td>\n",
       "      <td>-0.009218</td>\n",
       "    </tr>\n",
       "    <tr>\n",
       "      <th>00116118485d4dfda04fdbaba9a87b5c</th>\n",
       "      <td>0.151923</td>\n",
       "      <td>1.365501</td>\n",
       "      <td>-0.272429</td>\n",
       "      <td>-0.100232</td>\n",
       "      <td>-0.155957</td>\n",
       "      <td>0.123140</td>\n",
       "      <td>-0.317206</td>\n",
       "      <td>0.230466</td>\n",
       "      <td>-0.123862</td>\n",
       "      <td>0.078571</td>\n",
       "      <td>-0.309598</td>\n",
       "      <td>-0.223620</td>\n",
       "    </tr>\n",
       "    <tr>\n",
       "      <th>0011e0d4e6b944f998e987f904e8c1e5</th>\n",
       "      <td>0.127473</td>\n",
       "      <td>0.050806</td>\n",
       "      <td>0.223052</td>\n",
       "      <td>0.336513</td>\n",
       "      <td>-0.060218</td>\n",
       "      <td>0.062768</td>\n",
       "      <td>-0.187344</td>\n",
       "      <td>-0.361671</td>\n",
       "      <td>-0.181650</td>\n",
       "      <td>-0.251142</td>\n",
       "      <td>-0.025479</td>\n",
       "      <td>0.448502</td>\n",
       "    </tr>\n",
       "    <tr>\n",
       "      <th>0020c2b971eb4e9188eac86d93036a77</th>\n",
       "      <td>0.805938</td>\n",
       "      <td>-0.340078</td>\n",
       "      <td>0.027258</td>\n",
       "      <td>-0.201594</td>\n",
       "      <td>0.172849</td>\n",
       "      <td>-0.234618</td>\n",
       "      <td>0.183462</td>\n",
       "      <td>-0.006260</td>\n",
       "      <td>0.436933</td>\n",
       "      <td>-0.064390</td>\n",
       "      <td>-0.182824</td>\n",
       "      <td>-0.109084</td>\n",
       "    </tr>\n",
       "    <tr>\n",
       "      <th>0020ccbbb6d84e358d3414a3ff76cffd</th>\n",
       "      <td>0.776093</td>\n",
       "      <td>-0.396541</td>\n",
       "      <td>0.066999</td>\n",
       "      <td>0.180301</td>\n",
       "      <td>-0.253869</td>\n",
       "      <td>0.042908</td>\n",
       "      <td>-0.202317</td>\n",
       "      <td>0.236364</td>\n",
       "      <td>-0.098734</td>\n",
       "      <td>-0.342883</td>\n",
       "      <td>0.231328</td>\n",
       "      <td>-0.123198</td>\n",
       "    </tr>\n",
       "  </tbody>\n",
       "</table>\n",
       "</div>"
      ],
      "text/plain": [
       "                                       c_1       c_2       c_3       c_4  \\\n",
       "person                                                                     \n",
       "0009655768c64bdeb2e877511632db8f -0.615340 -0.329664  0.126927 -0.132461   \n",
       "00116118485d4dfda04fdbaba9a87b5c  0.151923  1.365501 -0.272429 -0.100232   \n",
       "0011e0d4e6b944f998e987f904e8c1e5  0.127473  0.050806  0.223052  0.336513   \n",
       "0020c2b971eb4e9188eac86d93036a77  0.805938 -0.340078  0.027258 -0.201594   \n",
       "0020ccbbb6d84e358d3414a3ff76cffd  0.776093 -0.396541  0.066999  0.180301   \n",
       "\n",
       "                                       c_5       c_6       c_7       c_8  \\\n",
       "person                                                                     \n",
       "0009655768c64bdeb2e877511632db8f  0.069794  0.094561 -0.400128  0.011124   \n",
       "00116118485d4dfda04fdbaba9a87b5c -0.155957  0.123140 -0.317206  0.230466   \n",
       "0011e0d4e6b944f998e987f904e8c1e5 -0.060218  0.062768 -0.187344 -0.361671   \n",
       "0020c2b971eb4e9188eac86d93036a77  0.172849 -0.234618  0.183462 -0.006260   \n",
       "0020ccbbb6d84e358d3414a3ff76cffd -0.253869  0.042908 -0.202317  0.236364   \n",
       "\n",
       "                                       c_9      c_10      c_11      c_12  \n",
       "person                                                                    \n",
       "0009655768c64bdeb2e877511632db8f  0.299893  0.134199  0.146107 -0.009218  \n",
       "00116118485d4dfda04fdbaba9a87b5c -0.123862  0.078571 -0.309598 -0.223620  \n",
       "0011e0d4e6b944f998e987f904e8c1e5 -0.181650 -0.251142 -0.025479  0.448502  \n",
       "0020c2b971eb4e9188eac86d93036a77  0.436933 -0.064390 -0.182824 -0.109084  \n",
       "0020ccbbb6d84e358d3414a3ff76cffd -0.098734 -0.342883  0.231328 -0.123198  "
      ]
     },
     "execution_count": 29,
     "metadata": {},
     "output_type": "execute_result"
    }
   ],
   "source": [
    "# Instantiate new dataframe\n",
    "transformed_dataframe = pd.DataFrame(transformed_data)\n",
    "\n",
    "# index by customers just like the customer_dataset\n",
    "transformed_dataframe.index = customer_dataset.index\n",
    "\n",
    "# Then we reduce the number of components to 12.\n",
    "transformed_dataframe = transformed_dataframe.iloc[:,:12]\n",
    "\n",
    "# Create names of features \n",
    "feature_comp = ['c_{}'.format(i) for i in list(range(1,13))]\n",
    "\n",
    "transformed_dataframe.columns = feature_comp\n",
    "\n",
    "transformed_dataframe.head()"
   ]
  },
  {
   "cell_type": "code",
   "execution_count": null,
   "metadata": {},
   "outputs": [],
   "source": [
    "pca_score = pca.score_samples(scaled_dataset)\n",
    "pca_score"
   ]
  },
  {
   "cell_type": "markdown",
   "metadata": {},
   "source": [
    "## Clustering Transformed Data \n",
    "\n",
    "Now we go ahead to cluster the data. The GMM algorithm is used and and accuracy is measured using silhouette scores. \n",
    "The benchmark algorithm would be the K-means clustering algorithm"
   ]
  },
  {
   "cell_type": "markdown",
   "metadata": {},
   "source": [
    "### Benchmark Model - KMeans Clustering Algorithm\n",
    "\n",
    "First we perform our clustering using the k-means algorithm to set a bench mark for the GMM and DBScan algorithms. The silhoutte score is used to determine the optimal number of clusters and accuracy of clustering"
   ]
  },
  {
   "cell_type": "code",
   "execution_count": 30,
   "metadata": {},
   "outputs": [
    {
     "name": "stdout",
     "output_type": "stream",
     "text": [
      "For n_clusters = 2 The average silhouette_score is : 0.31340997267908727\n",
      "For n_clusters = 3 The average silhouette_score is : 0.40328860761643825\n",
      "For n_clusters = 4 The average silhouette_score is : 0.27762801986987773\n",
      "For n_clusters = 5 The average silhouette_score is : 0.19244042602932462\n",
      "For n_clusters = 6 The average silhouette_score is : 0.18584359506849848\n",
      "For n_clusters = 7 The average silhouette_score is : 0.1730539014851372\n"
     ]
    }
   ],
   "source": [
    "from sklearn.cluster import KMeans\n",
    "from sklearn.metrics import silhouette_samples, silhouette_score\n",
    "\n",
    "for cluster in range(2,8):\n",
    "    kmeans = KMeans(init = 'k-means++', n_init = 40, n_clusters = cluster, max_iter=600)\n",
    "    kmeans.fit(transformed_dataframe)\n",
    "    clusters = kmeans.predict(transformed_dataframe)\n",
    "    silhouette_avg = silhouette_score(transformed_dataframe, clusters)\n",
    "    print(\"For n_clusters =\", cluster, \"The average silhouette_score is :\", silhouette_avg)"
   ]
  },
  {
   "cell_type": "markdown",
   "metadata": {},
   "source": [
    "From the result above, the optimal number of clusters is 3. I take a look at the number of data points in each cluster."
   ]
  },
  {
   "cell_type": "code",
   "execution_count": 31,
   "metadata": {
    "scrolled": true
   },
   "outputs": [
    {
     "name": "stdout",
     "output_type": "stream",
     "text": [
      "\n",
      "1    8566\n",
      "0    6259\n",
      "2    2175\n",
      "dtype: int64\n"
     ]
    }
   ],
   "source": [
    "kmeans = KMeans(init = 'k-means++', n_init = 40, n_clusters = 3, max_iter=600)\n",
    "km_clusters = kmeans.fit_predict(transformed_dataframe)\n",
    "cluster_data_points = pd.Series(km_clusters).value_counts()\n",
    "print()\n",
    "print(cluster_data_points)"
   ]
  },
  {
   "cell_type": "markdown",
   "metadata": {},
   "source": [
    "### Guassian Mixed Models\n",
    "\n",
    "GMM models each cluster with a different Guassian distribution which results in the soft assignment of data points to clusters i.e. each data point is assigned to a cluster based on probability.\n",
    "Using the GMM algorithm, we create 3 clusters"
   ]
  },
  {
   "cell_type": "code",
   "execution_count": 35,
   "metadata": {},
   "outputs": [
    {
     "name": "stdout",
     "output_type": "stream",
     "text": [
      "The average silhouette_score is : 0.40278647052464367\n"
     ]
    }
   ],
   "source": [
    "gmm = GaussianMixture(n_components=3)\n",
    "gmm_clusters = gmm.fit_predict(transformed_dataframe)\n",
    "silhouette_avg = silhouette_score(transformed_dataframe, gmm_clusters)\n",
    "    \n",
    "print(\"The GMM silhouette_score is :\", silhouette_avg)"
   ]
  },
  {
   "cell_type": "code",
   "execution_count": 32,
   "metadata": {},
   "outputs": [
    {
     "name": "stdout",
     "output_type": "stream",
     "text": [
      "For tied The average silhouette_score is : 0.40278647052464367\n",
      "For full The average silhouette_score is : 0.40278647052464367\n",
      "For diag The average silhouette_score is : 0.40278647052464367\n",
      "For spherical The average silhouette_score is : 0.40334750093084665\n"
     ]
    }
   ],
   "source": [
    "\n",
    "from sklearn.mixture import GaussianMixture\n",
    "for cov_type in ['tied', 'full', 'diag','spherical']:\n",
    "    gmm = GaussianMixture(n_components=3, covariance_type=cov_type)\n",
    "    gmm_clusters = gmm.fit_predict(transformed_dataframe)\n",
    "    silhouette_avg = silhouette_score(transformed_dataframe, gmm_clusters)\n",
    "    \n",
    "    print(\"For\",cov_type,\"The average silhouette_score is :\", silhouette_avg)"
   ]
  },
  {
   "cell_type": "markdown",
   "metadata": {},
   "source": [
    "From the silhouette scores gotten above, it can be observed that the only covariance type which performs a little bit above the K-means clustering algorithm is the Spherical covariance type. This explains the close results gotten with the K-means clustering as K-means creates only Spherical clustering.\n",
    "\n",
    "To visualize the number of data points in each cluster;"
   ]
  },
  {
   "cell_type": "code",
   "execution_count": 37,
   "metadata": {},
   "outputs": [
    {
     "name": "stdout",
     "output_type": "stream",
     "text": [
      "0.40334750093084665\n"
     ]
    },
    {
     "data": {
      "text/plain": [
       "2    8582\n",
       "1    6243\n",
       "0    2175\n",
       "dtype: int64"
      ]
     },
     "execution_count": 37,
     "metadata": {},
     "output_type": "execute_result"
    }
   ],
   "source": [
    "gmm = GaussianMixture(n_components=3, covariance_type='spherical', max_iter=300, \n",
    "                      n_init=3, random_state=0, init_params='random')\n",
    "gmm_clusters = gmm.fit_predict(transformed_dataframe)\n",
    "silhouette_avg = silhouette_score(transformed_dataframe, gmm_clusters)\n",
    "print(silhouette_avg)\n",
    "pd.Series(gmm_clusters).value_counts()"
   ]
  },
  {
   "cell_type": "markdown",
   "metadata": {},
   "source": [
    "Although the silhouette score is not very high for the GMM algorithm, it is slightly higher than that of the K-Means. We go ahead to examine the clusters and probabilistic cluster assignment of a few samples.\n"
   ]
  },
  {
   "cell_type": "code",
   "execution_count": 38,
   "metadata": {},
   "outputs": [
    {
     "name": "stdout",
     "output_type": "stream",
     "text": [
      "[2 0 1 1 1]\n",
      "[[1.   0.   0.  ]\n",
      " [0.   0.   1.  ]\n",
      " [0.43 0.57 0.  ]\n",
      " [0.   1.   0.  ]\n",
      " [0.   1.   0.  ]]\n"
     ]
    }
   ],
   "source": [
    "print(gmm_clusters[:5])\n",
    "probs = gmm.predict_proba(transformed_dataframe)\n",
    "print(probs[:5].round(3))"
   ]
  },
  {
   "cell_type": "markdown",
   "metadata": {},
   "source": [
    "## Extracting trained model attributes and visualizing clusters\n",
    "Then we view the centroid of each cluster. The centroids would be used to observe the properties of each cluster."
   ]
  },
  {
   "cell_type": "code",
   "execution_count": 39,
   "metadata": {},
   "outputs": [
    {
     "data": {
      "text/html": [
       "<div>\n",
       "<style scoped>\n",
       "    .dataframe tbody tr th:only-of-type {\n",
       "        vertical-align: middle;\n",
       "    }\n",
       "\n",
       "    .dataframe tbody tr th {\n",
       "        vertical-align: top;\n",
       "    }\n",
       "\n",
       "    .dataframe thead th {\n",
       "        text-align: right;\n",
       "    }\n",
       "</style>\n",
       "<table border=\"1\" class=\"dataframe\">\n",
       "  <thead>\n",
       "    <tr style=\"text-align: right;\">\n",
       "      <th></th>\n",
       "      <th>c_1</th>\n",
       "      <th>c_2</th>\n",
       "      <th>c_3</th>\n",
       "      <th>c_4</th>\n",
       "      <th>c_5</th>\n",
       "      <th>c_6</th>\n",
       "      <th>c_7</th>\n",
       "      <th>c_8</th>\n",
       "      <th>c_9</th>\n",
       "      <th>c_10</th>\n",
       "      <th>c_11</th>\n",
       "      <th>c_12</th>\n",
       "    </tr>\n",
       "  </thead>\n",
       "  <tbody>\n",
       "    <tr>\n",
       "      <th>0</th>\n",
       "      <td>-0.612602</td>\n",
       "      <td>-0.150743</td>\n",
       "      <td>-0.007646</td>\n",
       "      <td>0.001473</td>\n",
       "      <td>0.002178</td>\n",
       "      <td>0.000226</td>\n",
       "      <td>-0.001427</td>\n",
       "      <td>-0.000996</td>\n",
       "      <td>-0.000519</td>\n",
       "      <td>0.000074</td>\n",
       "      <td>-0.000016</td>\n",
       "      <td>0.001210</td>\n",
       "    </tr>\n",
       "    <tr>\n",
       "      <th>1</th>\n",
       "      <td>0.785608</td>\n",
       "      <td>-0.247296</td>\n",
       "      <td>-0.044471</td>\n",
       "      <td>0.007541</td>\n",
       "      <td>0.006297</td>\n",
       "      <td>0.000673</td>\n",
       "      <td>0.000798</td>\n",
       "      <td>0.002812</td>\n",
       "      <td>0.005519</td>\n",
       "      <td>-0.002652</td>\n",
       "      <td>0.007110</td>\n",
       "      <td>0.000480</td>\n",
       "    </tr>\n",
       "    <tr>\n",
       "      <th>2</th>\n",
       "      <td>0.164337</td>\n",
       "      <td>1.304451</td>\n",
       "      <td>0.157755</td>\n",
       "      <td>-0.027449</td>\n",
       "      <td>-0.026663</td>\n",
       "      <td>-0.002824</td>\n",
       "      <td>0.003342</td>\n",
       "      <td>-0.004136</td>\n",
       "      <td>-0.013784</td>\n",
       "      <td>0.007314</td>\n",
       "      <td>-0.020336</td>\n",
       "      <td>-0.006151</td>\n",
       "    </tr>\n",
       "  </tbody>\n",
       "</table>\n",
       "</div>"
      ],
      "text/plain": [
       "        c_1       c_2       c_3       c_4       c_5       c_6       c_7  \\\n",
       "0 -0.612602 -0.150743 -0.007646  0.001473  0.002178  0.000226 -0.001427   \n",
       "1  0.785608 -0.247296 -0.044471  0.007541  0.006297  0.000673  0.000798   \n",
       "2  0.164337  1.304451  0.157755 -0.027449 -0.026663 -0.002824  0.003342   \n",
       "\n",
       "        c_8       c_9      c_10      c_11      c_12  \n",
       "0 -0.000996 -0.000519  0.000074 -0.000016  0.001210  \n",
       "1  0.002812  0.005519 -0.002652  0.007110  0.000480  \n",
       "2 -0.004136 -0.013784  0.007314 -0.020336 -0.006151  "
      ]
     },
     "execution_count": 39,
     "metadata": {},
     "output_type": "execute_result"
    }
   ],
   "source": [
    "cluster_centroids = pd.DataFrame(gmm.means_, columns=feature_comp)\n",
    "cluster_centroids"
   ]
  },
  {
   "cell_type": "markdown",
   "metadata": {},
   "source": [
    "### Visualizing the Centroids in Components Space\n",
    "\n",
    "It won't be easy to visualize 12-dimensional centroids in component space. But a heatmap of the centroids and their components can be plotted in the transformed feature space. The heatmap would give insight into the characteristics that define each cluster."
   ]
  },
  {
   "cell_type": "code",
   "execution_count": 40,
   "metadata": {},
   "outputs": [
    {
     "data": {
      "image/png": "[encoded data removed]",
      "text/plain": [
       "<Figure size 864x648 with 2 Axes>"
      ]
     },
     "metadata": {
      "needs_background": "light"
     },
     "output_type": "display_data"
    }
   ],
   "source": [
    "# generate a heatmap in component space, using the seaborn library\n",
    "plt.figure(figsize = (12,9))\n",
    "ax = sns.heatmap(cluster_centroids.T, cmap = 'YlGnBu')\n",
    "ax.set_xlabel(\"Clusters\")\n",
    "plt.yticks(fontsize = 16)\n",
    "plt.xticks(fontsize = 16)\n",
    "ax.set_title(\"Attribute Value by Centroid\")\n",
    "plt.show()"
   ]
  },
  {
   "cell_type": "markdown",
   "metadata": {},
   "source": [
    "From the heatmap above, we see that:\n",
    "- Cluster 0 is very low in component 1 and 2.\n",
    "- Cluster 1 has a very high value for component 1, and low for component 2. \n",
    "- Cluster 2 has a very high value for component 2, followed by components 1 and 3\n",
    "- The variance between components 4 down to 12 isn't much at all.\n",
    "\n",
    "Recall that each component is made up of the initial 40 features. We can examine the weights of features of each component using the components_ attribute of the PCA model created earlier. \n",
    "\n",
    "By looking at the component makeup and the heatmap, the feature makeup of each cluster can be examined.\n"
   ]
  },
  {
   "cell_type": "code",
   "execution_count": 41,
   "metadata": {},
   "outputs": [],
   "source": [
    "# Create a function to display a bar chart showing makeup of a component.\n",
    "\n",
    "def display_components(component_num, n_weights):\n",
    "    \n",
    "    component_num_ = component_num - 1 \n",
    "    # get the list of weights in the component\n",
    "    comp_makeup = list(princip_comp[component_num_])\n",
    "    \n",
    "    # get the list of features\n",
    "    features = list(scaled_dataset.columns) \n",
    "\n",
    "    # match weights to features in customer_dataset\n",
    "    components = pd.DataFrame(list(zip(comp_makeup, features)), \n",
    "                         columns=['weights', 'features'])\n",
    "\n",
    "    # The weights are sorted by magnitude, from largest to smallest \n",
    "    components['abs_weights']=components['weights'].apply(lambda x: np.abs(x))\n",
    "    sorted_weight_data = components.sort_values('abs_weights', ascending=False).head(n_weights)\n",
    "\n",
    "    # display using seaborn\n",
    "    ax=plt.subplots(figsize=(12,9))\n",
    "    ax=sns.barplot(data=sorted_weight_data, \n",
    "                   x=\"weights\", \n",
    "                   y=\"features\", \n",
    "                   palette=\"Blues_d\")\n",
    "    ax.set_title(\"PCA Component Makeup, Component #\" + str(component_num))\n",
    "    plt.show()"
   ]
  },
  {
   "cell_type": "markdown",
   "metadata": {},
   "source": [
    "We can examine the feature weight of a component below. For instance, we look at component 2;"
   ]
  },
  {
   "cell_type": "code",
   "execution_count": 57,
   "metadata": {},
   "outputs": [
    {
     "data": {
      "image/png": "[encoded data removed]",
      "text/plain": [
       "<Figure size 864x648 with 1 Axes>"
      ]
     },
     "metadata": {
      "needs_background": "light"
     },
     "output_type": "display_data"
    }
   ],
   "source": [
    "display_components(3, 30) "
   ]
  },
  {
   "cell_type": "markdown",
   "metadata": {},
   "source": [
    "### Natural Groupings\n",
    "We map the clusters back to the customer dataset and transformed dataset to analyze the natural groupings of each customer.\n"
   ]
  },
  {
   "cell_type": "code",
   "execution_count": 47,
   "metadata": {},
   "outputs": [],
   "source": [
    "# Map the clusters\n",
    "customer_dataset['cluster'] = gmm_clusters\n",
    "transformed_dataframe['cluster'] = gmm_clusters\n",
    "#customer_dataset.head()\n"
   ]
  },
  {
   "cell_type": "code",
   "execution_count": 48,
   "metadata": {},
   "outputs": [
    {
     "data": {
      "text/html": [
       "<div>\n",
       "<style scoped>\n",
       "    .dataframe tbody tr th:only-of-type {\n",
       "        vertical-align: middle;\n",
       "    }\n",
       "\n",
       "    .dataframe tbody tr th {\n",
       "        vertical-align: top;\n",
       "    }\n",
       "\n",
       "    .dataframe thead th {\n",
       "        text-align: right;\n",
       "    }\n",
       "</style>\n",
       "<table border=\"1\" class=\"dataframe\">\n",
       "  <thead>\n",
       "    <tr style=\"text-align: right;\">\n",
       "      <th></th>\n",
       "      <th>c_1</th>\n",
       "      <th>c_2</th>\n",
       "      <th>c_3</th>\n",
       "      <th>c_4</th>\n",
       "      <th>c_5</th>\n",
       "      <th>c_6</th>\n",
       "      <th>c_7</th>\n",
       "      <th>c_8</th>\n",
       "      <th>c_9</th>\n",
       "      <th>c_10</th>\n",
       "      <th>c_11</th>\n",
       "      <th>c_12</th>\n",
       "      <th>cluster</th>\n",
       "    </tr>\n",
       "    <tr>\n",
       "      <th>person</th>\n",
       "      <th></th>\n",
       "      <th></th>\n",
       "      <th></th>\n",
       "      <th></th>\n",
       "      <th></th>\n",
       "      <th></th>\n",
       "      <th></th>\n",
       "      <th></th>\n",
       "      <th></th>\n",
       "      <th></th>\n",
       "      <th></th>\n",
       "      <th></th>\n",
       "      <th></th>\n",
       "    </tr>\n",
       "  </thead>\n",
       "  <tbody>\n",
       "    <tr>\n",
       "      <th>0009655768c64bdeb2e877511632db8f</th>\n",
       "      <td>-0.615340</td>\n",
       "      <td>-0.329664</td>\n",
       "      <td>0.126927</td>\n",
       "      <td>-0.132461</td>\n",
       "      <td>0.069794</td>\n",
       "      <td>0.094561</td>\n",
       "      <td>-0.400128</td>\n",
       "      <td>0.011124</td>\n",
       "      <td>0.299893</td>\n",
       "      <td>0.134199</td>\n",
       "      <td>0.146107</td>\n",
       "      <td>-0.009218</td>\n",
       "      <td>2</td>\n",
       "    </tr>\n",
       "    <tr>\n",
       "      <th>00116118485d4dfda04fdbaba9a87b5c</th>\n",
       "      <td>0.151923</td>\n",
       "      <td>1.365501</td>\n",
       "      <td>-0.272429</td>\n",
       "      <td>-0.100232</td>\n",
       "      <td>-0.155957</td>\n",
       "      <td>0.123140</td>\n",
       "      <td>-0.317206</td>\n",
       "      <td>0.230466</td>\n",
       "      <td>-0.123862</td>\n",
       "      <td>0.078571</td>\n",
       "      <td>-0.309598</td>\n",
       "      <td>-0.223620</td>\n",
       "      <td>0</td>\n",
       "    </tr>\n",
       "    <tr>\n",
       "      <th>0011e0d4e6b944f998e987f904e8c1e5</th>\n",
       "      <td>0.127473</td>\n",
       "      <td>0.050806</td>\n",
       "      <td>0.223052</td>\n",
       "      <td>0.336513</td>\n",
       "      <td>-0.060218</td>\n",
       "      <td>0.062768</td>\n",
       "      <td>-0.187344</td>\n",
       "      <td>-0.361671</td>\n",
       "      <td>-0.181650</td>\n",
       "      <td>-0.251142</td>\n",
       "      <td>-0.025479</td>\n",
       "      <td>0.448502</td>\n",
       "      <td>1</td>\n",
       "    </tr>\n",
       "    <tr>\n",
       "      <th>0020c2b971eb4e9188eac86d93036a77</th>\n",
       "      <td>0.805938</td>\n",
       "      <td>-0.340078</td>\n",
       "      <td>0.027258</td>\n",
       "      <td>-0.201594</td>\n",
       "      <td>0.172849</td>\n",
       "      <td>-0.234618</td>\n",
       "      <td>0.183462</td>\n",
       "      <td>-0.006260</td>\n",
       "      <td>0.436933</td>\n",
       "      <td>-0.064390</td>\n",
       "      <td>-0.182824</td>\n",
       "      <td>-0.109084</td>\n",
       "      <td>1</td>\n",
       "    </tr>\n",
       "    <tr>\n",
       "      <th>0020ccbbb6d84e358d3414a3ff76cffd</th>\n",
       "      <td>0.776093</td>\n",
       "      <td>-0.396541</td>\n",
       "      <td>0.066999</td>\n",
       "      <td>0.180301</td>\n",
       "      <td>-0.253869</td>\n",
       "      <td>0.042908</td>\n",
       "      <td>-0.202317</td>\n",
       "      <td>0.236364</td>\n",
       "      <td>-0.098734</td>\n",
       "      <td>-0.342883</td>\n",
       "      <td>0.231328</td>\n",
       "      <td>-0.123198</td>\n",
       "      <td>1</td>\n",
       "    </tr>\n",
       "  </tbody>\n",
       "</table>\n",
       "</div>"
      ],
      "text/plain": [
       "                                       c_1       c_2       c_3       c_4  \\\n",
       "person                                                                     \n",
       "0009655768c64bdeb2e877511632db8f -0.615340 -0.329664  0.126927 -0.132461   \n",
       "00116118485d4dfda04fdbaba9a87b5c  0.151923  1.365501 -0.272429 -0.100232   \n",
       "0011e0d4e6b944f998e987f904e8c1e5  0.127473  0.050806  0.223052  0.336513   \n",
       "0020c2b971eb4e9188eac86d93036a77  0.805938 -0.340078  0.027258 -0.201594   \n",
       "0020ccbbb6d84e358d3414a3ff76cffd  0.776093 -0.396541  0.066999  0.180301   \n",
       "\n",
       "                                       c_5       c_6       c_7       c_8  \\\n",
       "person                                                                     \n",
       "0009655768c64bdeb2e877511632db8f  0.069794  0.094561 -0.400128  0.011124   \n",
       "00116118485d4dfda04fdbaba9a87b5c -0.155957  0.123140 -0.317206  0.230466   \n",
       "0011e0d4e6b944f998e987f904e8c1e5 -0.060218  0.062768 -0.187344 -0.361671   \n",
       "0020c2b971eb4e9188eac86d93036a77  0.172849 -0.234618  0.183462 -0.006260   \n",
       "0020ccbbb6d84e358d3414a3ff76cffd -0.253869  0.042908 -0.202317  0.236364   \n",
       "\n",
       "                                       c_9      c_10      c_11      c_12  \\\n",
       "person                                                                     \n",
       "0009655768c64bdeb2e877511632db8f  0.299893  0.134199  0.146107 -0.009218   \n",
       "00116118485d4dfda04fdbaba9a87b5c -0.123862  0.078571 -0.309598 -0.223620   \n",
       "0011e0d4e6b944f998e987f904e8c1e5 -0.181650 -0.251142 -0.025479  0.448502   \n",
       "0020c2b971eb4e9188eac86d93036a77  0.436933 -0.064390 -0.182824 -0.109084   \n",
       "0020ccbbb6d84e358d3414a3ff76cffd -0.098734 -0.342883  0.231328 -0.123198   \n",
       "\n",
       "                                  cluster  \n",
       "person                                     \n",
       "0009655768c64bdeb2e877511632db8f        2  \n",
       "00116118485d4dfda04fdbaba9a87b5c        0  \n",
       "0011e0d4e6b944f998e987f904e8c1e5        1  \n",
       "0020c2b971eb4e9188eac86d93036a77        1  \n",
       "0020ccbbb6d84e358d3414a3ff76cffd        1  "
      ]
     },
     "execution_count": 48,
     "metadata": {},
     "output_type": "execute_result"
    }
   ],
   "source": [
    "transformed_dataframe.head()"
   ]
  },
  {
   "cell_type": "code",
   "execution_count": 49,
   "metadata": {},
   "outputs": [],
   "source": [
    "# We define dataframes for each cluster  to examine them\n",
    "cluster_0 = customer_dataset.loc[customer_dataset['cluster']==0]\n",
    "cluster_1 = customer_dataset.loc[customer_dataset['cluster']==1]\n",
    "cluster_2 = customer_dataset.loc[customer_dataset['cluster']==2]"
   ]
  },
  {
   "cell_type": "markdown",
   "metadata": {},
   "source": [
    "Since gender is a categorical feature, we would use it to easily examine our clusters"
   ]
  },
  {
   "cell_type": "code",
   "execution_count": 53,
   "metadata": {},
   "outputs": [
    {
     "data": {
      "text/plain": [
       "gender_unavailable    2175\n",
       "Name: gender, dtype: int64"
      ]
     },
     "execution_count": 53,
     "metadata": {},
     "output_type": "execute_result"
    }
   ],
   "source": [
    "cluster_0['gender'].value_counts()"
   ]
  },
  {
   "cell_type": "code",
   "execution_count": 55,
   "metadata": {},
   "outputs": [
    {
     "data": {
      "text/plain": [
       "F    6129\n",
       "O     114\n",
       "Name: gender, dtype: int64"
      ]
     },
     "execution_count": 55,
     "metadata": {},
     "output_type": "execute_result"
    }
   ],
   "source": [
    "cluster_1['gender'].value_counts()"
   ]
  },
  {
   "cell_type": "code",
   "execution_count": 56,
   "metadata": {},
   "outputs": [
    {
     "data": {
      "text/plain": [
       "M    8484\n",
       "O      98\n",
       "Name: gender, dtype: int64"
      ]
     },
     "execution_count": 56,
     "metadata": {},
     "output_type": "execute_result"
    }
   ],
   "source": [
    "cluster_2['gender'].value_counts()"
   ]
  },
  {
   "cell_type": "markdown",
   "metadata": {},
   "source": [
    "It seems the clusters were formed based on gender types. This is not the exact clustering wanted as this clustering wouldn't give the variety of information needed.\n",
    "\n",
    "An improvement on this would be to perform another form of Data processing on the customer dataset. I believe GMM is a good clustering model and can be applied to produce better result, but other algorithms like DBScan could be tried also."
   ]
  }
 ],
 "metadata": {
  "kernelspec": {
   "display_name": "Python 3",
   "language": "python",
   "name": "python3"
  },
  "language_info": {
   "codemirror_mode": {
    "name": "ipython",
    "version": 3
   },
   "file_extension": ".py",
   "mimetype": "text/x-python",
   "name": "python",
   "nbconvert_exporter": "python",
   "pygments_lexer": "ipython3",
   "version": "3.7.3"
  }
 },
 "nbformat": 4,
 "nbformat_minor": 2
}
